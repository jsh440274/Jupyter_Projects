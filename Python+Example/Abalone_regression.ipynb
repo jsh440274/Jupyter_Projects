{
 "cells": [
  {
   "cell_type": "markdown",
   "metadata": {},
   "source": [
    "<h1>Linear_Regression_Abalone_201402438"
   ]
  },
  {
   "cell_type": "code",
   "execution_count": 57,
   "metadata": {},
   "outputs": [],
   "source": [
    "from os.path import join\n",
    "import numpy as np\n",
    "import pandas as pd\n",
    "import matplotlib.pyplot as plt"
   ]
  },
  {
   "cell_type": "code",
   "execution_count": 58,
   "metadata": {},
   "outputs": [
    {
     "data": {
      "text/html": [
       "<div>\n",
       "<style scoped>\n",
       "    .dataframe tbody tr th:only-of-type {\n",
       "        vertical-align: middle;\n",
       "    }\n",
       "\n",
       "    .dataframe tbody tr th {\n",
       "        vertical-align: top;\n",
       "    }\n",
       "\n",
       "    .dataframe thead th {\n",
       "        text-align: right;\n",
       "    }\n",
       "</style>\n",
       "<table border=\"1\" class=\"dataframe\">\n",
       "  <thead>\n",
       "    <tr style=\"text-align: right;\">\n",
       "      <th></th>\n",
       "      <th>Sex</th>\n",
       "      <th>Length</th>\n",
       "      <th>Diameter</th>\n",
       "      <th>Height</th>\n",
       "      <th>Whole weight</th>\n",
       "      <th>Shucked weight</th>\n",
       "      <th>Viscera weight</th>\n",
       "      <th>Whell weight</th>\n",
       "      <th>Rings</th>\n",
       "    </tr>\n",
       "  </thead>\n",
       "  <tbody>\n",
       "    <tr>\n",
       "      <th>0</th>\n",
       "      <td>M</td>\n",
       "      <td>0.455</td>\n",
       "      <td>0.365</td>\n",
       "      <td>0.095</td>\n",
       "      <td>0.5140</td>\n",
       "      <td>0.2245</td>\n",
       "      <td>0.1010</td>\n",
       "      <td>0.150</td>\n",
       "      <td>15</td>\n",
       "    </tr>\n",
       "    <tr>\n",
       "      <th>1</th>\n",
       "      <td>M</td>\n",
       "      <td>0.350</td>\n",
       "      <td>0.265</td>\n",
       "      <td>0.090</td>\n",
       "      <td>0.2255</td>\n",
       "      <td>0.0995</td>\n",
       "      <td>0.0485</td>\n",
       "      <td>0.070</td>\n",
       "      <td>7</td>\n",
       "    </tr>\n",
       "    <tr>\n",
       "      <th>2</th>\n",
       "      <td>F</td>\n",
       "      <td>0.530</td>\n",
       "      <td>0.420</td>\n",
       "      <td>0.135</td>\n",
       "      <td>0.6770</td>\n",
       "      <td>0.2565</td>\n",
       "      <td>0.1415</td>\n",
       "      <td>0.210</td>\n",
       "      <td>9</td>\n",
       "    </tr>\n",
       "    <tr>\n",
       "      <th>3</th>\n",
       "      <td>M</td>\n",
       "      <td>0.440</td>\n",
       "      <td>0.365</td>\n",
       "      <td>0.125</td>\n",
       "      <td>0.5160</td>\n",
       "      <td>0.2155</td>\n",
       "      <td>0.1140</td>\n",
       "      <td>0.155</td>\n",
       "      <td>10</td>\n",
       "    </tr>\n",
       "    <tr>\n",
       "      <th>4</th>\n",
       "      <td>I</td>\n",
       "      <td>0.330</td>\n",
       "      <td>0.255</td>\n",
       "      <td>0.080</td>\n",
       "      <td>0.2050</td>\n",
       "      <td>0.0895</td>\n",
       "      <td>0.0395</td>\n",
       "      <td>0.055</td>\n",
       "      <td>7</td>\n",
       "    </tr>\n",
       "  </tbody>\n",
       "</table>\n",
       "</div>"
      ],
      "text/plain": [
       "  Sex  Length  Diameter  Height  Whole weight  Shucked weight  Viscera weight  \\\n",
       "0   M   0.455     0.365   0.095        0.5140          0.2245          0.1010   \n",
       "1   M   0.350     0.265   0.090        0.2255          0.0995          0.0485   \n",
       "2   F   0.530     0.420   0.135        0.6770          0.2565          0.1415   \n",
       "3   M   0.440     0.365   0.125        0.5160          0.2155          0.1140   \n",
       "4   I   0.330     0.255   0.080        0.2050          0.0895          0.0395   \n",
       "\n",
       "   Whell weight  Rings  \n",
       "0         0.150     15  \n",
       "1         0.070      7  \n",
       "2         0.210      9  \n",
       "3         0.155     10  \n",
       "4         0.055      7  "
      ]
     },
     "execution_count": 58,
     "metadata": {},
     "output_type": "execute_result"
    }
   ],
   "source": [
    "df = pd.read_csv(join('data','abalone.csv'))\n",
    "df.head(5)"
   ]
  },
  {
   "cell_type": "code",
   "execution_count": 59,
   "metadata": {},
   "outputs": [
    {
     "name": "stdout",
     "output_type": "stream",
     "text": [
      "                   Sex_F     Sex_I     Sex_M    Length  Diameter    Height  \\\n",
      "Sex_F           1.000000 -0.464298 -0.512528  0.309666  0.318626  0.298421   \n",
      "Sex_I          -0.464298  1.000000 -0.522541 -0.551465 -0.564315 -0.518552   \n",
      "Sex_M          -0.512528 -0.522541  1.000000  0.236543  0.240376  0.215459   \n",
      "Length          0.309666 -0.551465  0.236543  1.000000  0.986812  0.827554   \n",
      "Diameter        0.318626 -0.564315  0.240376  0.986812  1.000000  0.833684   \n",
      "Height          0.298421 -0.518552  0.215459  0.827554  0.833684  1.000000   \n",
      "Whole weight    0.299741 -0.557592  0.252038  0.925261  0.925452  0.819221   \n",
      "Shucked weight  0.263991 -0.521842  0.251793  0.897914  0.893162  0.774972   \n",
      "Viscera weight  0.308444 -0.556081  0.242194  0.903018  0.899724  0.798319   \n",
      "Whell weight    0.306319 -0.546953  0.235391  0.897706  0.905330  0.817338   \n",
      "Rings           0.250279 -0.436063  0.181831  0.556720  0.574660  0.557467   \n",
      "\n",
      "                Whole weight  Shucked weight  Viscera weight  Whell weight  \\\n",
      "Sex_F               0.299741        0.263991        0.308444      0.306319   \n",
      "Sex_I              -0.557592       -0.521842       -0.556081     -0.546953   \n",
      "Sex_M               0.252038        0.251793        0.242194      0.235391   \n",
      "Length              0.925261        0.897914        0.903018      0.897706   \n",
      "Diameter            0.925452        0.893162        0.899724      0.905330   \n",
      "Height              0.819221        0.774972        0.798319      0.817338   \n",
      "Whole weight        1.000000        0.969405        0.966375      0.955355   \n",
      "Shucked weight      0.969405        1.000000        0.931961      0.882617   \n",
      "Viscera weight      0.966375        0.931961        1.000000      0.907656   \n",
      "Whell weight        0.955355        0.882617        0.907656      1.000000   \n",
      "Rings               0.540390        0.420884        0.503819      0.627574   \n",
      "\n",
      "                   Rings  \n",
      "Sex_F           0.250279  \n",
      "Sex_I          -0.436063  \n",
      "Sex_M           0.181831  \n",
      "Length          0.556720  \n",
      "Diameter        0.574660  \n",
      "Height          0.557467  \n",
      "Whole weight    0.540390  \n",
      "Shucked weight  0.420884  \n",
      "Viscera weight  0.503819  \n",
      "Whell weight    0.627574  \n",
      "Rings           1.000000  \n",
      "Sex_F               uint8\n",
      "Sex_I               uint8\n",
      "Sex_M               uint8\n",
      "Length            float64\n",
      "Diameter          float64\n",
      "Height            float64\n",
      "Whole weight      float64\n",
      "Shucked weight    float64\n",
      "Viscera weight    float64\n",
      "Whell weight      float64\n",
      "Rings               int64\n",
      "dtype: object\n",
      "(4177, 11)\n"
     ]
    }
   ],
   "source": [
    "df2 = pd.get_dummies(df)\n",
    "cols = df2.columns.tolist()\n",
    "for i in range(0,3):\n",
    "    cols.insert(0, cols.pop(-1))\n",
    "df2 = df2[cols]\n",
    "print(df2.corr())\n",
    "print(df2.dtypes)\n",
    "print(df2.shape)"
   ]
  },
  {
   "cell_type": "code",
   "execution_count": 60,
   "metadata": {},
   "outputs": [],
   "source": [
    "from sklearn.model_selection import train_test_split\n",
    "trnx, tstx, trny, tsty = train_test_split(df2.iloc[:,0:(df2.shape[1]-1)], df2.iloc[:,(df2.shape[1]-1)], test_size=0.3, random_state=123)"
   ]
  },
  {
   "cell_type": "code",
   "execution_count": 61,
   "metadata": {},
   "outputs": [
    {
     "name": "stdout",
     "output_type": "stream",
     "text": [
      "RMSE: 2.1895541889187164\n",
      "R2: 0.5297829560039801\n"
     ]
    }
   ],
   "source": [
    "from sklearn.linear_model import LinearRegression\n",
    "from sklearn import metrics\n",
    "model = LinearRegression()\n",
    "model.fit(X=trnx, y=trny)\n",
    "lr_pred = model.predict(X=tstx)\n",
    "print('RMSE:', np.sqrt(metrics.mean_squared_error(lr_pred, tsty)))\n",
    "print('R2:', metrics.r2_score(tsty, lr_pred))"
   ]
  },
  {
   "cell_type": "code",
   "execution_count": 62,
   "metadata": {},
   "outputs": [
    {
     "name": "stdout",
     "output_type": "stream",
     "text": [
      "[129304.3125]\n"
     ]
    },
    {
     "data": {
      "image/png": "[encoded data removed]",
      "text/plain": [
       "<Figure size 432x288 with 1 Axes>"
      ]
     },
     "metadata": {
      "needs_background": "light"
     },
     "output_type": "display_data"
    }
   ],
   "source": [
    "plt.scatter(x=tsty, y=lr_pred)\n",
    "print(np.correlate(tsty, lr_pred))"
   ]
  },
  {
   "cell_type": "code",
   "execution_count": 63,
   "metadata": {},
   "outputs": [
    {
     "name": "stdout",
     "output_type": "stream",
     "text": [
      "RMSE: 3.1944175477599464\n",
      "R2: -0.0008530958185830606\n"
     ]
    }
   ],
   "source": [
    "from sklearn.linear_model import Lasso\n",
    "model_lasso = Lasso()\n",
    "model_lasso.fit(X=trnx, y=trny)\n",
    "lr_pred_lasso = model_lasso.predict(X=tstx)\n",
    "print('RMSE:', np.sqrt(metrics.mean_squared_error(lr_pred_lasso, tsty)))\n",
    "print('R2:', metrics.r2_score(tsty, lr_pred_lasso))"
   ]
  },
  {
   "cell_type": "code",
   "execution_count": 64,
   "metadata": {},
   "outputs": [
    {
     "name": "stdout",
     "output_type": "stream",
     "text": [
      "[123275.8296271]\n"
     ]
    },
    {
     "data": {
      "image/png": "[encoded data removed]",
      "text/plain": [
       "<Figure size 432x288 with 1 Axes>"
      ]
     },
     "metadata": {
      "needs_background": "light"
     },
     "output_type": "display_data"
    }
   ],
   "source": [
    "plt.scatter(x=tsty, y=lr_pred_lasso)\n",
    "print(np.correlate(tsty, lr_pred_lasso))"
   ]
  },
  {
   "cell_type": "code",
   "execution_count": 65,
   "metadata": {},
   "outputs": [
    {
     "name": "stdout",
     "output_type": "stream",
     "text": [
      "RMSE: 2.193974310244932\n",
      "R2: 0.5278825561174342\n"
     ]
    }
   ],
   "source": [
    "from sklearn.linear_model import Ridge\n",
    "model_ridge = Ridge()\n",
    "model_ridge.fit(X=trnx, y=trny)\n",
    "lr_pred_ridge = model_ridge.predict(X=tstx)\n",
    "print('RMSE:', np.sqrt(metrics.mean_squared_error(lr_pred_ridge, tsty)))\n",
    "print('R2:', metrics.r2_score(tsty, lr_pred_ridge))"
   ]
  },
  {
   "cell_type": "code",
   "execution_count": 66,
   "metadata": {},
   "outputs": [
    {
     "name": "stdout",
     "output_type": "stream",
     "text": [
      "[128832.80391851]\n"
     ]
    },
    {
     "data": {
      "image/png": "[encoded data removed]",
      "text/plain": [
       "<Figure size 432x288 with 1 Axes>"
      ]
     },
     "metadata": {
      "needs_background": "light"
     },
     "output_type": "display_data"
    }
   ],
   "source": [
    "plt.scatter(x=tsty, y=lr_pred_ridge)\n",
    "print(np.correlate(tsty, lr_pred_ridge))"
   ]
  }
 ],
 "metadata": {
  "kernelspec": {
   "display_name": "Python 3",
   "language": "python",
   "name": "python3"
  },
  "language_info": {
   "codemirror_mode": {
    "name": "ipython",
    "version": 3
   },
   "file_extension": ".py",
   "mimetype": "text/x-python",
   "name": "python",
   "nbconvert_exporter": "python",
   "pygments_lexer": "ipython3",
   "version": "3.6.8"
  }
 },
 "nbformat": 4,
 "nbformat_minor": 2
}
