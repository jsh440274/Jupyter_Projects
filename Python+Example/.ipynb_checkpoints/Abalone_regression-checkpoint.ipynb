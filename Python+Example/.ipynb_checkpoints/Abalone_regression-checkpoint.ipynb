{
 "cells": [
  {
   "cell_type": "markdown",
   "metadata": {},
   "source": [
    "<h1>Linear_Regression_Abalone_201402438"
   ]
  },
  {
   "cell_type": "code",
   "execution_count": 161,
   "metadata": {},
   "outputs": [],
   "source": [
    "from os.path import join\n",
    "import numpy as np\n",
    "import pandas as pd\n",
    "import matplotlib.pyplot as plt"
   ]
  },
  {
   "cell_type": "code",
   "execution_count": 162,
   "metadata": {},
   "outputs": [
    {
     "data": {
      "text/html": [
       "<div>\n",
       "<style scoped>\n",
       "    .dataframe tbody tr th:only-of-type {\n",
       "        vertical-align: middle;\n",
       "    }\n",
       "\n",
       "    .dataframe tbody tr th {\n",
       "        vertical-align: top;\n",
       "    }\n",
       "\n",
       "    .dataframe thead th {\n",
       "        text-align: right;\n",
       "    }\n",
       "</style>\n",
       "<table border=\"1\" class=\"dataframe\">\n",
       "  <thead>\n",
       "    <tr style=\"text-align: right;\">\n",
       "      <th></th>\n",
       "      <th>Sex</th>\n",
       "      <th>Length</th>\n",
       "      <th>Diameter</th>\n",
       "      <th>Height</th>\n",
       "      <th>Whole weight</th>\n",
       "      <th>Shucked weight</th>\n",
       "      <th>Viscera weight</th>\n",
       "      <th>Whell weight</th>\n",
       "      <th>Rings</th>\n",
       "    </tr>\n",
       "  </thead>\n",
       "  <tbody>\n",
       "    <tr>\n",
       "      <th>0</th>\n",
       "      <td>M</td>\n",
       "      <td>0.455</td>\n",
       "      <td>0.365</td>\n",
       "      <td>0.095</td>\n",
       "      <td>0.5140</td>\n",
       "      <td>0.2245</td>\n",
       "      <td>0.1010</td>\n",
       "      <td>0.150</td>\n",
       "      <td>15</td>\n",
       "    </tr>\n",
       "    <tr>\n",
       "      <th>1</th>\n",
       "      <td>M</td>\n",
       "      <td>0.350</td>\n",
       "      <td>0.265</td>\n",
       "      <td>0.090</td>\n",
       "      <td>0.2255</td>\n",
       "      <td>0.0995</td>\n",
       "      <td>0.0485</td>\n",
       "      <td>0.070</td>\n",
       "      <td>7</td>\n",
       "    </tr>\n",
       "    <tr>\n",
       "      <th>2</th>\n",
       "      <td>F</td>\n",
       "      <td>0.530</td>\n",
       "      <td>0.420</td>\n",
       "      <td>0.135</td>\n",
       "      <td>0.6770</td>\n",
       "      <td>0.2565</td>\n",
       "      <td>0.1415</td>\n",
       "      <td>0.210</td>\n",
       "      <td>9</td>\n",
       "    </tr>\n",
       "    <tr>\n",
       "      <th>3</th>\n",
       "      <td>M</td>\n",
       "      <td>0.440</td>\n",
       "      <td>0.365</td>\n",
       "      <td>0.125</td>\n",
       "      <td>0.5160</td>\n",
       "      <td>0.2155</td>\n",
       "      <td>0.1140</td>\n",
       "      <td>0.155</td>\n",
       "      <td>10</td>\n",
       "    </tr>\n",
       "    <tr>\n",
       "      <th>4</th>\n",
       "      <td>I</td>\n",
       "      <td>0.330</td>\n",
       "      <td>0.255</td>\n",
       "      <td>0.080</td>\n",
       "      <td>0.2050</td>\n",
       "      <td>0.0895</td>\n",
       "      <td>0.0395</td>\n",
       "      <td>0.055</td>\n",
       "      <td>7</td>\n",
       "    </tr>\n",
       "  </tbody>\n",
       "</table>\n",
       "</div>"
      ],
      "text/plain": [
       "  Sex  Length  Diameter  Height  Whole weight  Shucked weight  Viscera weight  \\\n",
       "0   M   0.455     0.365   0.095        0.5140          0.2245          0.1010   \n",
       "1   M   0.350     0.265   0.090        0.2255          0.0995          0.0485   \n",
       "2   F   0.530     0.420   0.135        0.6770          0.2565          0.1415   \n",
       "3   M   0.440     0.365   0.125        0.5160          0.2155          0.1140   \n",
       "4   I   0.330     0.255   0.080        0.2050          0.0895          0.0395   \n",
       "\n",
       "   Whell weight  Rings  \n",
       "0         0.150     15  \n",
       "1         0.070      7  \n",
       "2         0.210      9  \n",
       "3         0.155     10  \n",
       "4         0.055      7  "
      ]
     },
     "execution_count": 162,
     "metadata": {},
     "output_type": "execute_result"
    }
   ],
   "source": [
    "df = pd.read_csv(join('data','abalone.csv'))\n",
    "df.head(5)"
   ]
  },
  {
   "cell_type": "code",
   "execution_count": 164,
   "metadata": {},
   "outputs": [
    {
     "name": "stdout",
     "output_type": "stream",
     "text": [
      "                   Sex_F     Sex_I     Sex_M    Length  Diameter    Height  \\\n",
      "Sex_F           1.000000 -0.464298 -0.512528  0.309666  0.318626  0.298421   \n",
      "Sex_I          -0.464298  1.000000 -0.522541 -0.551465 -0.564315 -0.518552   \n",
      "Sex_M          -0.512528 -0.522541  1.000000  0.236543  0.240376  0.215459   \n",
      "Length          0.309666 -0.551465  0.236543  1.000000  0.986812  0.827554   \n",
      "Diameter        0.318626 -0.564315  0.240376  0.986812  1.000000  0.833684   \n",
      "Height          0.298421 -0.518552  0.215459  0.827554  0.833684  1.000000   \n",
      "Whole weight    0.299741 -0.557592  0.252038  0.925261  0.925452  0.819221   \n",
      "Shucked weight  0.263991 -0.521842  0.251793  0.897914  0.893162  0.774972   \n",
      "Viscera weight  0.308444 -0.556081  0.242194  0.903018  0.899724  0.798319   \n",
      "Whell weight    0.306319 -0.546953  0.235391  0.897706  0.905330  0.817338   \n",
      "Rings           0.250279 -0.436063  0.181831  0.556720  0.574660  0.557467   \n",
      "\n",
      "                Whole weight  Shucked weight  Viscera weight  Whell weight  \\\n",
      "Sex_F               0.299741        0.263991        0.308444      0.306319   \n",
      "Sex_I              -0.557592       -0.521842       -0.556081     -0.546953   \n",
      "Sex_M               0.252038        0.251793        0.242194      0.235391   \n",
      "Length              0.925261        0.897914        0.903018      0.897706   \n",
      "Diameter            0.925452        0.893162        0.899724      0.905330   \n",
      "Height              0.819221        0.774972        0.798319      0.817338   \n",
      "Whole weight        1.000000        0.969405        0.966375      0.955355   \n",
      "Shucked weight      0.969405        1.000000        0.931961      0.882617   \n",
      "Viscera weight      0.966375        0.931961        1.000000      0.907656   \n",
      "Whell weight        0.955355        0.882617        0.907656      1.000000   \n",
      "Rings               0.540390        0.420884        0.503819      0.627574   \n",
      "\n",
      "                   Rings  \n",
      "Sex_F           0.250279  \n",
      "Sex_I          -0.436063  \n",
      "Sex_M           0.181831  \n",
      "Length          0.556720  \n",
      "Diameter        0.574660  \n",
      "Height          0.557467  \n",
      "Whole weight    0.540390  \n",
      "Shucked weight  0.420884  \n",
      "Viscera weight  0.503819  \n",
      "Whell weight    0.627574  \n",
      "Rings           1.000000  \n",
      "Sex_F               uint8\n",
      "Sex_I               uint8\n",
      "Sex_M               uint8\n",
      "Length            float64\n",
      "Diameter          float64\n",
      "Height            float64\n",
      "Whole weight      float64\n",
      "Shucked weight    float64\n",
      "Viscera weight    float64\n",
      "Whell weight      float64\n",
      "Rings               int64\n",
      "dtype: object\n",
      "(4177, 11)\n"
     ]
    }
   ],
   "source": [
    "df2 = pd.get_dummies(df)\n",
    "cols = df2.columns.tolist()\n",
    "for i in range(0,3):\n",
    "    cols.insert(0, cols.pop(-1))\n",
    "df2 = df2[cols]\n",
    "print(df2.corr())\n",
    "print(df2.dtypes)\n",
    "print(df2.shape)"
   ]
  },
  {
   "cell_type": "code",
   "execution_count": 165,
   "metadata": {},
   "outputs": [
    {
     "name": "stdout",
     "output_type": "stream",
     "text": [
      "      Sex_F  Sex_I  Sex_M  Length  Diameter  Height  Whole weight  \\\n",
      "112       0      1      0   0.435     0.320   0.080        0.3325   \n",
      "2979      0      0      1   0.490     0.355   0.155        0.9810   \n",
      "1715      0      0      1   0.645     0.485   0.150        1.2215   \n",
      "3548      1      0      0   0.495     0.370   0.120        0.5940   \n",
      "3911      0      1      0   0.355     0.270   0.100        0.2160   \n",
      "501       1      0      0   0.620     0.520   0.225        1.1835   \n",
      "1262      0      1      0   0.455     0.345   0.105        0.4005   \n",
      "3888      1      0      0   0.575     0.450   0.100        0.9315   \n",
      "2763      0      1      0   0.550     0.425   0.135        0.6560   \n",
      "2897      0      1      0   0.545     0.430   0.150        0.7420   \n",
      "2469      0      0      1   0.540     0.415   0.130        0.8245   \n",
      "1247      0      1      0   0.395     0.305   0.105        0.2840   \n",
      "1079      0      1      0   0.425     0.325   0.115        0.3685   \n",
      "921       0      1      0   0.420     0.320   0.115        0.3760   \n",
      "2792      0      0      1   0.625     0.490   0.165        1.2050   \n",
      "1804      0      0      1   0.620     0.470   0.145        1.0865   \n",
      "1435      0      1      0   0.385     0.300   0.090        0.2470   \n",
      "3739      1      0      0   0.650     0.525   0.165        1.2380   \n",
      "2956      1      0      0   0.650     0.565   0.200        1.6645   \n",
      "1426      1      0      0   0.745     0.570   0.215        2.2500   \n",
      "2371      0      0      1   0.180     0.125   0.050        0.0230   \n",
      "1450      0      1      0   0.455     0.335   0.135        0.5010   \n",
      "449       1      0      0   0.565     0.455   0.150        0.8205   \n",
      "3479      0      1      0   0.440     0.330   0.110        0.3800   \n",
      "419       0      0      1   0.545     0.410   0.140        0.6250   \n",
      "3036      0      1      0   0.550     0.445   0.145        0.7830   \n",
      "3883      0      0      1   0.540     0.425   0.120        0.8170   \n",
      "3835      1      0      0   0.425     0.350   0.100        0.4425   \n",
      "3352      1      0      0   0.520     0.405   0.145        0.8290   \n",
      "1017      1      0      0   0.630     0.495   0.165        1.3075   \n",
      "...     ...    ...    ...     ...       ...     ...           ...   \n",
      "3971      0      1      0   0.400     0.295   0.095        0.2520   \n",
      "1704      0      0      1   0.640     0.515   0.180        1.2470   \n",
      "588       0      0      1   0.450     0.335   0.140        0.4625   \n",
      "2338      0      0      1   0.655     0.485   0.195        1.6200   \n",
      "3702      1      0      0   0.665     0.540   0.195        1.7640   \n",
      "3937      0      0      1   0.530     0.425   0.110        0.7390   \n",
      "1382      1      0      0   0.625     0.515   0.160        1.2640   \n",
      "3252      0      0      1   0.480     0.380   0.130        0.6175   \n",
      "2428      1      0      0   0.530     0.385   0.125        0.6695   \n",
      "1897      0      0      1   0.570     0.415   0.130        0.8800   \n",
      "1159      0      0      1   0.605     0.480   0.170        1.1835   \n",
      "4174      0      0      1   0.600     0.475   0.205        1.1760   \n",
      "39        0      0      1   0.355     0.290   0.090        0.3275   \n",
      "2050      0      0      1   0.450     0.350   0.130        0.4655   \n",
      "1847      0      1      0   0.470     0.375   0.120        0.4870   \n",
      "1092      0      1      0   0.460     0.350   0.115        0.4155   \n",
      "3325      0      0      1   0.345     0.265   0.090        0.1630   \n",
      "2894      0      1      0   0.540     0.425   0.130        0.8155   \n",
      "1363      0      0      1   0.610     0.450   0.150        0.8710   \n",
      "3481      0      1      0   0.465     0.345   0.105        0.4015   \n",
      "111       0      0      1   0.465     0.360   0.105        0.4310   \n",
      "942       0      1      0   0.465     0.370   0.115        0.5340   \n",
      "4169      0      0      1   0.520     0.385   0.165        0.7910   \n",
      "4143      1      0      0   0.655     0.500   0.220        1.3590   \n",
      "96        0      0      1   0.535     0.435   0.150        0.7250   \n",
      "1593      0      1      0   0.525     0.380   0.135        0.6150   \n",
      "4060      0      1      0   0.545     0.405   0.130        0.6580   \n",
      "1346      0      0      1   0.585     0.450   0.180        0.7995   \n",
      "3454      1      0      0   0.575     0.460   0.165        1.0650   \n",
      "3582      1      0      0   0.625     0.475   0.160        1.3335   \n",
      "\n",
      "      Shucked weight  Viscera weight  Whell weight  \n",
      "112           0.1485          0.0635        0.1050  \n",
      "2979          0.4650          0.2015        0.2505  \n",
      "1715          0.5695          0.2735        0.3300  \n",
      "3548          0.2800          0.1100        0.1375  \n",
      "3911          0.0830          0.0370        0.0750  \n",
      "501           0.3780          0.2700        0.3950  \n",
      "1262          0.1640          0.0755        0.1260  \n",
      "3888          0.4310          0.2220        0.2350  \n",
      "2763          0.2570          0.1700        0.2030  \n",
      "2897          0.3525          0.1580        0.2080  \n",
      "2469          0.2720          0.2260        0.2400  \n",
      "1247          0.1135          0.0595        0.0945  \n",
      "1079          0.1620          0.0865        0.1045  \n",
      "921           0.1690          0.0920        0.1000  \n",
      "2792          0.5175          0.3105        0.3465  \n",
      "1804          0.5110          0.2715        0.2565  \n",
      "1435          0.1225          0.0440        0.0675  \n",
      "3739          0.6470          0.2485        0.3005  \n",
      "2956          0.7530          0.3670        0.4300  \n",
      "1426          1.1565          0.4460        0.5580  \n",
      "2371          0.0085          0.0055        0.0100  \n",
      "1450          0.2740          0.0995        0.1065  \n",
      "449           0.3650          0.1590        0.2600  \n",
      "3479          0.1970          0.0790        0.0900  \n",
      "419           0.2230          0.1600        0.2350  \n",
      "3036          0.3045          0.1570        0.2650  \n",
      "3883          0.2945          0.1530        0.1950  \n",
      "3835          0.1750          0.0755        0.1750  \n",
      "3352          0.3535          0.1685        0.2050  \n",
      "1017          0.5990          0.2840        0.3150  \n",
      "...              ...             ...           ...  \n",
      "3971          0.1105          0.0575        0.0660  \n",
      "1704          0.5475          0.2925        0.3685  \n",
      "588           0.1640          0.0760        0.1500  \n",
      "2338          0.6275          0.3580        0.4850  \n",
      "3702          0.8505          0.3615        0.4700  \n",
      "3937          0.2370          0.1610        0.2950  \n",
      "1382          0.5715          0.3260        0.3210  \n",
      "3252          0.3000          0.1420        0.1750  \n",
      "2428          0.2890          0.1510        0.1800  \n",
      "1897          0.4275          0.1955        0.2380  \n",
      "1159          0.5820          0.2365        0.3170  \n",
      "4174          0.5255          0.2875        0.3080  \n",
      "39            0.1340          0.0860        0.0900  \n",
      "2050          0.2075          0.1045        0.1350  \n",
      "1847          0.1960          0.0990        0.1350  \n",
      "1092          0.1800          0.0980        0.1175  \n",
      "3325          0.0615          0.0370        0.0485  \n",
      "2894          0.3675          0.1365        0.2460  \n",
      "1363          0.4070          0.1835        0.2500  \n",
      "3481          0.2420          0.0345        0.1090  \n",
      "111           0.1720          0.1070        0.1750  \n",
      "942           0.2610          0.0980        0.1430  \n",
      "4169          0.3750          0.1800        0.1815  \n",
      "4143          0.6420          0.3255        0.4050  \n",
      "96            0.2690          0.1385        0.2500  \n",
      "1593          0.2610          0.1590        0.1750  \n",
      "4060          0.3270          0.1445        0.1740  \n",
      "1346          0.3360          0.1855        0.2370  \n",
      "3454          0.4985          0.2145        0.2815  \n",
      "3582          0.6050          0.2875        0.3190  \n",
      "\n",
      "[2923 rows x 10 columns]       Sex_F  Sex_I  Sex_M  Length  Diameter  Height  Whole weight  \\\n",
      "2812      0      1      0   0.240     0.170   0.050        0.0545   \n",
      "1344      0      0      1   0.585     0.470   0.165        1.4090   \n",
      "533       1      0      0   0.435     0.335   0.110        0.3800   \n",
      "866       0      0      1   0.605     0.455   0.160        1.1035   \n",
      "3939      0      0      1   0.555     0.420   0.145        0.8695   \n",
      "283       0      0      1   0.485     0.395   0.140        0.6295   \n",
      "4057      1      0      0   0.690     0.535   0.185        1.8260   \n",
      "1130      0      0      1   0.565     0.455   0.150        0.9595   \n",
      "2034      1      0      0   0.625     0.515   0.180        1.3485   \n",
      "1995      0      1      0   0.320     0.240   0.070        0.1330   \n",
      "843       0      0      1   0.505     0.440   0.140        0.8275   \n",
      "976       0      0      1   0.530     0.405   0.125        0.6515   \n",
      "1781      0      0      1   0.515     0.395   0.135        1.0070   \n",
      "1667      1      0      0   0.605     0.505   0.180        1.4340   \n",
      "3957      1      0      0   0.555     0.440   0.155        1.0160   \n",
      "457       0      1      0   0.360     0.280   0.105        0.1990   \n",
      "3177      1      0      0   0.505     0.410   0.135        0.6570   \n",
      "2772      0      0      1   0.580     0.440   0.175        1.2255   \n",
      "1259      0      1      0   0.435     0.315   0.110        0.3685   \n",
      "1127      0      0      1   0.560     0.445   0.160        0.8965   \n",
      "463       0      1      0   0.220     0.165   0.055        0.0545   \n",
      "1955      1      0      0   0.645     0.510   0.180        1.6195   \n",
      "1971      1      0      0   0.675     0.510   0.185        1.4730   \n",
      "3941      1      0      0   0.540     0.440   0.160        1.0905   \n",
      "155       0      0      1   0.515     0.405   0.130        0.7220   \n",
      "4028      0      1      0   0.420     0.310   0.100        0.2805   \n",
      "2069      0      0      1   0.550     0.410   0.130        0.8705   \n",
      "3704      0      0      1   0.670     0.540   0.195        1.2170   \n",
      "3560      0      0      1   0.570     0.470   0.155        1.1860   \n",
      "2727      0      1      0   0.405     0.305   0.100        0.2710   \n",
      "...     ...    ...    ...     ...       ...     ...           ...   \n",
      "1390      1      0      0   0.635     0.500   0.165        1.4595   \n",
      "3001      0      0      1   0.640     0.495   0.165        1.3070   \n",
      "2653      0      1      0   0.520     0.395   0.135        0.6330   \n",
      "546       0      0      1   0.255     0.195   0.065        0.0800   \n",
      "1411      1      0      0   0.670     0.530   0.225        1.5615   \n",
      "299       0      0      1   0.370     0.280   0.105        0.2340   \n",
      "2530      1      0      0   0.600     0.485   0.165        1.1405   \n",
      "2639      0      1      0   0.460     0.370   0.120        0.5335   \n",
      "368       0      0      1   0.630     0.490   0.180        1.1300   \n",
      "3305      0      1      0   0.600     0.445   0.175        1.0570   \n",
      "236       0      1      0   0.075     0.055   0.010        0.0020   \n",
      "1969      1      0      0   0.670     0.530   0.205        1.4015   \n",
      "348       0      1      0   0.375     0.305   0.115        0.2715   \n",
      "661       0      1      0   0.535     0.450   0.170        0.7810   \n",
      "310       1      0      0   0.630     0.485   0.190        1.2435   \n",
      "2304      0      0      1   0.590     0.490   0.135        1.0080   \n",
      "3107      0      1      0   0.370     0.275   0.100        0.2815   \n",
      "3260      1      0      0   0.560     0.435   0.125        0.8775   \n",
      "86        0      0      1   0.625     0.465   0.140        1.1950   \n",
      "989       0      0      1   0.575     0.475   0.160        1.1140   \n",
      "1750      1      0      0   0.710     0.570   0.195        1.9805   \n",
      "270       1      0      0   0.640     0.525   0.215        1.7790   \n",
      "104       0      0      1   0.605     0.470   0.160        1.1735   \n",
      "1736      1      0      0   0.670     0.520   0.190        1.3200   \n",
      "830       0      0      1   0.415     0.305   0.100        0.3250   \n",
      "351       1      0      0   0.585     0.450   0.170        0.8685   \n",
      "1747      1      0      0   0.700     0.535   0.175        1.7730   \n",
      "3752      0      1      0   0.475     0.355   0.135        0.4775   \n",
      "2014      0      1      0   0.470     0.375   0.105        0.4410   \n",
      "3524      0      1      0   0.320     0.240   0.085        0.1310   \n",
      "\n",
      "      Shucked weight  Viscera weight  Whell weight  \n",
      "2812          0.0205          0.0160        0.0155  \n",
      "1344          0.8000          0.2290        0.2950  \n",
      "533           0.1695          0.0860        0.1100  \n",
      "866           0.4210          0.3015        0.3250  \n",
      "3939          0.3075          0.2575        0.2500  \n",
      "283           0.2285          0.1270        0.2250  \n",
      "4057          0.7970          0.4090        0.4990  \n",
      "1130          0.4565          0.2395        0.2300  \n",
      "2034          0.5255          0.2520        0.3925  \n",
      "1995          0.0585          0.0255        0.0410  \n",
      "843           0.3415          0.1855        0.2390  \n",
      "976           0.2715          0.1605        0.1860  \n",
      "1781          0.4720          0.2495        0.2520  \n",
      "1667          0.7285          0.2640        0.4310  \n",
      "3957          0.4935          0.1855        0.2630  \n",
      "457           0.0695          0.0450        0.0800  \n",
      "3177          0.2910          0.1330        0.1950  \n",
      "2772          0.5405          0.2705        0.3265  \n",
      "1259          0.1615          0.0715        0.1200  \n",
      "1127          0.4200          0.2175        0.2215  \n",
      "463           0.0215          0.0120        0.0200  \n",
      "1955          0.7815          0.3220        0.4675  \n",
      "1971          0.6295          0.3025        0.4245  \n",
      "3941          0.3910          0.2295        0.3550  \n",
      "155           0.3200          0.1310        0.2100  \n",
      "4028          0.1125          0.0615        0.0925  \n",
      "2069          0.4455          0.2115        0.2130  \n",
      "3704          0.5320          0.2735        0.3315  \n",
      "3560          0.6355          0.2315        0.2770  \n",
      "2727          0.0965          0.0610        0.0910  \n",
      "...              ...             ...           ...  \n",
      "1390          0.7050          0.2645        0.3900  \n",
      "3001          0.6780          0.2920        0.2660  \n",
      "2653          0.2985          0.1295        0.1750  \n",
      "546           0.0315          0.0180        0.0270  \n",
      "1411          0.6300          0.4870        0.3725  \n",
      "299           0.0905          0.0585        0.0750  \n",
      "2530          0.5870          0.2175        0.2880  \n",
      "2639          0.2645          0.1080        0.1345  \n",
      "368           0.4580          0.2765        0.3150  \n",
      "3305          0.3830          0.2160        0.3550  \n",
      "236           0.0010          0.0005        0.0015  \n",
      "1969          0.6430          0.2465        0.4160  \n",
      "348           0.0920          0.0740        0.0900  \n",
      "661           0.3055          0.1555        0.2950  \n",
      "310           0.4635          0.3055        0.3900  \n",
      "2304          0.4220          0.2245        0.2850  \n",
      "3107          0.1505          0.0505        0.0680  \n",
      "3260          0.3345          0.2145        0.2900  \n",
      "86            0.4825          0.2050        0.4000  \n",
      "989           0.4955          0.2745        0.2900  \n",
      "1750          0.9925          0.4925        0.4800  \n",
      "270           0.4535          0.2855        0.5500  \n",
      "104           0.4975          0.2405        0.3450  \n",
      "1736          0.5235          0.3095        0.4275  \n",
      "830           0.1560          0.0505        0.0910  \n",
      "351           0.3325          0.1635        0.2700  \n",
      "1747          0.6805          0.4800        0.5120  \n",
      "3752          0.2145          0.0900        0.1435  \n",
      "2014          0.1670          0.0865        0.1450  \n",
      "3524          0.0615          0.0265        0.0380  \n",
      "\n",
      "[1254 rows x 10 columns] 112      9\n",
      "2979     8\n",
      "1715     9\n",
      "3548     7\n",
      "3911    10\n",
      "501     23\n",
      "1262     8\n",
      "3888    12\n",
      "2763    10\n",
      "2897    10\n",
      "2469    13\n",
      "1247     8\n",
      "1079     7\n",
      "921      5\n",
      "2792    10\n",
      "1804    10\n",
      "1435     5\n",
      "3739     9\n",
      "2956    12\n",
      "1426     9\n",
      "2371     3\n",
      "1450     7\n",
      "449     18\n",
      "3479     7\n",
      "419     13\n",
      "3036    11\n",
      "3883    10\n",
      "3835     7\n",
      "3352    15\n",
      "1017    11\n",
      "        ..\n",
      "3971     6\n",
      "1704    10\n",
      "588     14\n",
      "2338    17\n",
      "3702    11\n",
      "3937    13\n",
      "1382     9\n",
      "3252    12\n",
      "2428    10\n",
      "1897    13\n",
      "1159    10\n",
      "4174     9\n",
      "39       9\n",
      "2050     8\n",
      "1847     8\n",
      "1092     7\n",
      "3325    10\n",
      "2894    11\n",
      "1363    10\n",
      "3481     6\n",
      "111      9\n",
      "942      7\n",
      "4169    10\n",
      "4143    13\n",
      "96       9\n",
      "1593     8\n",
      "4060     8\n",
      "1346     8\n",
      "3454     8\n",
      "3582    10\n",
      "Name: Rings, Length: 2923, dtype: int64 2812     5\n",
      "1344    10\n",
      "533      9\n",
      "866      9\n",
      "3939    14\n",
      "283     14\n",
      "4057    11\n",
      "1130     9\n",
      "2034    14\n",
      "1995     6\n",
      "843      8\n",
      "976      7\n",
      "1781     8\n",
      "1667    11\n",
      "3957    10\n",
      "457      9\n",
      "3177    15\n",
      "2772    10\n",
      "1259     7\n",
      "1127     8\n",
      "463      5\n",
      "1955    12\n",
      "1971    11\n",
      "3941    15\n",
      "155     10\n",
      "4028     8\n",
      "2069     9\n",
      "3704    11\n",
      "3560    10\n",
      "2727     7\n",
      "        ..\n",
      "1390     9\n",
      "3001    11\n",
      "2653     9\n",
      "546      8\n",
      "1411    11\n",
      "299      9\n",
      "2530     9\n",
      "2639     6\n",
      "368     12\n",
      "3305    16\n",
      "236      1\n",
      "1969    12\n",
      "348      8\n",
      "661     11\n",
      "310     21\n",
      "2304    11\n",
      "3107     5\n",
      "3260    13\n",
      "86      13\n",
      "989      9\n",
      "1750    12\n",
      "270     22\n",
      "104     12\n",
      "1736    13\n",
      "830      6\n",
      "351     22\n",
      "1747    15\n",
      "3752     8\n",
      "2014    10\n",
      "3524     6\n",
      "Name: Rings, Length: 1254, dtype: int64\n"
     ]
    }
   ],
   "source": [
    "from sklearn.model_selection import train_test_split\n",
    "trnx, tstx, trny, tsty = train_test_split(df2.iloc[:,0:(df2.shape[1]-1)], df2.iloc[:,(df2.shape[1]-1)], test_size=0.3, random_state=123)\n",
    "print(trnx, tstx, trny, tsty)"
   ]
  },
  {
   "cell_type": "code",
   "execution_count": 166,
   "metadata": {},
   "outputs": [
    {
     "name": "stdout",
     "output_type": "stream",
     "text": [
      "RMSE: 2.1895541889187164\n"
     ]
    }
   ],
   "source": [
    "from sklearn.linear_model import LinearRegression\n",
    "model = LinearRegression()\n",
    "model.fit(X=trnx, y=trny)\n",
    "lr_pred = model.predict(X=tstx)\n",
    "print('RMSE:', np.sqrt(metrics.mean_squared_error(lr_pred, tsty)))"
   ]
  },
  {
   "cell_type": "code",
   "execution_count": 167,
   "metadata": {},
   "outputs": [
    {
     "name": "stdout",
     "output_type": "stream",
     "text": [
      "[129304.3125]\n"
     ]
    },
    {
     "data": {
      "image/png": "[encoded data removed]",
      "text/plain": [
       "<Figure size 432x288 with 1 Axes>"
      ]
     },
     "metadata": {
      "needs_background": "light"
     },
     "output_type": "display_data"
    }
   ],
   "source": [
    "plt.scatter(x=tsty, y=lr_pred)\n",
    "print(np.correlate(tsty, lr_pred))"
   ]
  },
  {
   "cell_type": "code",
   "execution_count": 168,
   "metadata": {},
   "outputs": [
    {
     "name": "stdout",
     "output_type": "stream",
     "text": [
      "RMSE: 2.1895541889187164\n",
      "R2: 0.5297829560039801\n"
     ]
    }
   ],
   "source": [
    "from sklearn import metrics\n",
    "print('RMSE:', np.sqrt(metrics.mean_squared_error(lr_pred, tsty)))\n",
    "print('R2:', metrics.r2_score(tsty, lr_pred))"
   ]
  },
  {
   "cell_type": "code",
   "execution_count": 169,
   "metadata": {},
   "outputs": [
    {
     "name": "stdout",
     "output_type": "stream",
     "text": [
      "RMSE: 3.1944175477599464\n",
      "R2: -0.0008530958185830606\n"
     ]
    }
   ],
   "source": [
    "from sklearn.linear_model import Lasso\n",
    "model_lasso = Lasso()\n",
    "model_lasso.fit(X=trnx, y=trny)\n",
    "lr_pred_lasso = model_lasso.predict(X=tstx)\n",
    "print('RMSE:', np.sqrt(metrics.mean_squared_error(lr_pred_lasso, tsty)))\n",
    "print('R2:', metrics.r2_score(tsty, lr_pred_lasso))"
   ]
  },
  {
   "cell_type": "code",
   "execution_count": 170,
   "metadata": {},
   "outputs": [
    {
     "name": "stdout",
     "output_type": "stream",
     "text": [
      "[123275.8296271]\n"
     ]
    },
    {
     "data": {
      "image/png": "[encoded data removed]",
      "text/plain": [
       "<Figure size 432x288 with 1 Axes>"
      ]
     },
     "metadata": {
      "needs_background": "light"
     },
     "output_type": "display_data"
    }
   ],
   "source": [
    "plt.scatter(x=tsty, y=lr_pred_lasso)\n",
    "print(np.correlate(tsty, lr_pred_lasso))"
   ]
  },
  {
   "cell_type": "code",
   "execution_count": 171,
   "metadata": {},
   "outputs": [
    {
     "name": "stdout",
     "output_type": "stream",
     "text": [
      "RMSE: 2.193974310244932\n"
     ]
    }
   ],
   "source": [
    "from sklearn.linear_model import Ridge\n",
    "model_ridge = Ridge()\n",
    "model_ridge.fit(X=trnx, y=trny)\n",
    "lr_pred_ridge = model_ridge.predict(X=tstx)\n",
    "print('RMSE:', np.sqrt(metrics.mean_squared_error(lr_pred_ridge, tsty)))"
   ]
  },
  {
   "cell_type": "code",
   "execution_count": 172,
   "metadata": {},
   "outputs": [
    {
     "name": "stdout",
     "output_type": "stream",
     "text": [
      "[128832.80391851]\n"
     ]
    },
    {
     "data": {
      "image/png": "[encoded data removed]",
      "text/plain": [
       "<Figure size 432x288 with 1 Axes>"
      ]
     },
     "metadata": {
      "needs_background": "light"
     },
     "output_type": "display_data"
    }
   ],
   "source": [
    "plt.scatter(x=tsty, y=lr_pred_ridge)\n",
    "print(np.correlate(tsty, lr_pred_ridge))"
   ]
  },
  {
   "cell_type": "code",
   "execution_count": 173,
   "metadata": {},
   "outputs": [
    {
     "name": "stdout",
     "output_type": "stream",
     "text": [
      "RMSE: 3.1944175477599464\n"
     ]
    }
   ],
   "source": [
    "from sklearn.linear_model import LassoLars\n",
    "model_LL = LassoLars()\n",
    "model_LL.fit(X=trnx, y=trny)\n",
    "lr_pred_LL = model_LL.predict(X=tstx)\n",
    "print('RMSE:', np.sqrt(metrics.mean_squared_error(lr_pred_LL, tsty)))"
   ]
  },
  {
   "cell_type": "code",
   "execution_count": 174,
   "metadata": {},
   "outputs": [
    {
     "name": "stdout",
     "output_type": "stream",
     "text": [
      "[123275.8296271]\n"
     ]
    },
    {
     "data": {
      "image/png": "[encoded data removed]",
      "text/plain": [
       "<Figure size 432x288 with 1 Axes>"
      ]
     },
     "metadata": {
      "needs_background": "light"
     },
     "output_type": "display_data"
    }
   ],
   "source": [
    "plt.scatter(x=tsty, y=lr_pred_LL)\n",
    "print(np.correlate(tsty, lr_pred_LL))"
   ]
  }
 ],
 "metadata": {
  "kernelspec": {
   "display_name": "Python 3",
   "language": "python",
   "name": "python3"
  },
  "language_info": {
   "codemirror_mode": {
    "name": "ipython",
    "version": 3
   },
   "file_extension": ".py",
   "mimetype": "text/x-python",
   "name": "python",
   "nbconvert_exporter": "python",
   "pygments_lexer": "ipython3",
   "version": "3.6.8"
  }
 },
 "nbformat": 4,
 "nbformat_minor": 2
}
