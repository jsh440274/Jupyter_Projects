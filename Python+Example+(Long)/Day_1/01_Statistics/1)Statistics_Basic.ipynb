{
 "cells": [
  {
   "cell_type": "markdown",
   "metadata": {},
   "source": [
    "Lab01-1\n",
    "======"
   ]
  },
  {
   "cell_type": "markdown",
   "metadata": {},
   "source": [
    "<script type=\"text/javascript\" src=\"http://cdn.mathjax.org/mathjax/latest/MathJax.js?config=TeX-AMS-MML_HTMLorMML\"></script>\n",
    "### Context\n",
    "#### Statistics Basic\n",
    "+ Mean & Median\n",
    "+ Variance\n",
    "+ Standard Deviation"
   ]
  },
  {
   "cell_type": "markdown",
   "metadata": {},
   "source": [
    "## Mean(평균)\n",
    "\n",
    "확률 이론과 통계 관점에서 (모)평균 또는 기댓값은 중심에 대한 경향성을 알 수 있는 척도입니다.<br>\n",
    "일반적으로 평균이라고 부르는 것으로 산술 평균이라고 하고, 이 평균은 표본 평균이라고도 합니다.<br>\n",
    "평균은 모든 관측치의 값을 다 반영하므로 지나치게 작거나 큰 값(이상치)들의 영향을 많이 받게 됩니다.<br>\n",
    "평균은 모든 샘플의 값을 더하고, 샘플의 개수로 나누어 계산할 수 있습니다.<br>\n",
    "\n",
    "$$ E(x) = {\\sum x \\over n}$$"
   ]
  },
  {
   "cell_type": "markdown",
   "metadata": {},
   "source": [
    "## Median(중간값) \n",
    "중간값은 데이터 샘플을 개수에 대해서 절반으로 나누는 위치의 값을 말합니다. <br>\n",
    "데이터 샘플의 수가 짝수개일 때에는 중간에 위치한 두 값의 평균을 사용합니다.<br>\n",
    "중간값은 모든 관측치의 값을 다 반영하지 않으므로 지나치게 작거나 큰 값(이상치)들의 영향을 덜 받습니다.<br>\n",
    "중간값은 샘플을 값에 대해 정렬하고, 중앙에 위치한 값으로 구할 수 있습니다."
   ]
  },
  {
   "cell_type": "markdown",
   "metadata": {},
   "source": [
    "## Variance(분산)\n",
    "확률 이론과 통계 관점에서 분산은 평균(mean)으로부터 확률변수와의 편차 제곱의 기댓값로 나타내어집니다.<br>\n",
    "간단히 말하면, 각 샘플들이 평균으로부터 얼마나 흩뿌려져 있는지의 정도라고 할 수 있습니다.<br>\n",
    "분산은 평균 값을 기반으로 계산하기 때문에 지나치게 작거나 큰 값(이상치)들의 영향을 많이 받습니다.<br>\n",
    "분산은 샘플의 평균을 구하고, 모든 샘플과 평균을 뺀 값(편차)의 제곱을 평균을 취해 구할 수 있습니다.<br>\n",
    "\n",
    "$$ Var(x) = {\\sum (y - E(x))^2  \\over n}$$"
   ]
  },
  {
   "cell_type": "markdown",
   "metadata": {},
   "source": [
    "## Standard Deviation(표준편차) \n",
    "통계에서 표준편차는 분산의 양을 정량화하는 척도로 사용합니다.<br>\n",
    "분산은 평균으로부터 얼마나 떨어져있는지(거리)에 대해 나타낼 수 없습니다. <br>\n",
    "그 이유는 편차의 제곱(거리^2 = 넓이)으로 나타내어지기 때문입니다.<br>\n",
    "그래서 분산(거리^2)에 제곱근을 씌워 분산을 거리로 표현한 것이 표준 편차입니다.<br>\n",
    "표준 편차는 분산에 제곱근을 씌워 계산할 수 있습니다.\n",
    "\n",
    "$$ std(x) = \\sqrt {Var(x)} $$"
   ]
  },
  {
   "cell_type": "code",
   "execution_count": null,
   "metadata": {
    "collapsed": true
   },
   "outputs": [],
   "source": [
    "import os\n",
    "from os.path import join\n",
    "\n",
    "import pandas as pd\n",
    "import numpy as np\n",
    "\n",
    "import matplotlib.pyplot as plt\n",
    "\n",
    "datapath = join('data','wine.txt')\n",
    "labelpath = join('data','wine_attributes.txt')\n",
    "\n",
    "columns = list()\n",
    "with open(labelpath, 'r') as f:\n",
    "    columns = f.read().split('\\n')"
   ]
  },
  {
   "cell_type": "markdown",
   "metadata": {},
   "source": [
    "## 1. 데이터 살펴보기\n",
    "이번 장에서 우리가 사용할 데이터는 178개의 행과 14개의 열로 이루어진 와인 데이터 입니다. <br>\n",
    "와인 데이터가 가진 컬럼에 대해 간단히 살펴 보겠습니다.<br>\n",
    "와인 데이터는 13개의 컬럼을 가지고 있으며, 3개의 등급으로 나누어진 데이터셋 입니다.<br>\n",
    "해당 데이터셋은 등급 컬럼을 이용해 분류에 사용할 수도 있고, 클러스터링, 회귀, 차원축소 등 여러가지 머신러닝 기법에 사용될 수 있습니다.<br><br>\n",
    "### Feature Description \n",
    "1. Alcohol : 알콜 도수.\n",
    "2. Malic acid : 와인 특유의 신맛을 나타내는 성분.\n",
    "3. Ash : 영양학에서, 음식물 속에 들어 있는 무기물 또는 그것의 전체 분량에 대한 비율을 이르는 말.\n",
    "4. Alcalinity of ash : 무기물의 염기성 정도.\n",
    "5. Magnesium : 마그네슘 함량.\n",
    "6. Total phenols : 와인에 들어있는 페놀의 전체 양.\n",
    "7. Flavonoids :  레드 와인의 페놀 성분 중 최대 90% 비율을 나타내는 폴리 페놀 성분들 플라보노이드 라고 한다. 떫은 맛을 내는 탄닌이 플라보노이드에 속한다.\n",
    "8. Nonflavanoid phenols : 90% 성분을 제외한 10%의 페놀 성분들.\n",
    "9. Proanthocyanins : 심장혈관 질환의 발병률을 낮추는데 도움을 주는 성분.\n",
    "10. Color intensity\t: 색의 진한 정도.\n",
    "11. Hue : 와인을 잔에 따라 흔들었을 때 와인과 글라스의 경계 부분의 색깔이 다른 정도. Edge 라고도 한다.\n",
    "12. OD280/OD315 of diluted wines\n",
    "13. Proline : 와인의 아미노산 성분 중 가장 많은 양을 차지함."
   ]
  },
  {
   "cell_type": "code",
   "execution_count": null,
   "metadata": {
    "collapsed": true
   },
   "outputs": [],
   "source": [
    "data = pd.read_csv(datapath, names = columns)"
   ]
  },
  {
   "cell_type": "markdown",
   "metadata": {},
   "source": [
    "DataFrame.head() 함수로 처음 5개의 데이터를 살펴볼 수 있습니다."
   ]
  },
  {
   "cell_type": "code",
   "execution_count": null,
   "metadata": {
    "collapsed": false,
    "scrolled": false
   },
   "outputs": [],
   "source": [
    "data.head()"
   ]
  },
  {
   "cell_type": "markdown",
   "metadata": {},
   "source": [
    "클래스는 1,2,3 세 등급이 있습니다.<br>\n",
    "pandas의 DataFrame은 특정 컬럼에 대해 논리 조건으로 행을 추출할 수 있습니다.<br>\n",
    "DataFrame.loc[논리조건] 을 이용해 와인 데이터를 클래스 별로 나누어 보겠습니다.<br>"
   ]
  },
  {
   "cell_type": "code",
   "execution_count": null,
   "metadata": {
    "collapsed": true
   },
   "outputs": [],
   "source": [
    "class_1 = data.loc[data['Class']==1]\n",
    "class_2 = data.loc[data['Class']==2]\n",
    "class_3 = data.loc[data['Class']==3]"
   ]
  },
  {
   "cell_type": "markdown",
   "metadata": {},
   "source": [
    "클래스별로 데이터를 나누었으니 실제 데이터에서는 클래스 컬럼을 제거해주도록 합니다.<br>\n",
    "데이터를 분류하고자 한다면, 클래스 컬럼을 따로 저장해두어야 합니다.<br>\n",
    "DataFrame으로 부터 컬럼을 제거하는 방법은 del DataFrame[컬럼이름] 으로 제거할 수 있습니다."
   ]
  },
  {
   "cell_type": "code",
   "execution_count": null,
   "metadata": {
    "collapsed": true
   },
   "outputs": [],
   "source": [
    "del class_1['Class']\n",
    "del class_2['Class']\n",
    "del class_3['Class']\n",
    "del data['Class']"
   ]
  },
  {
   "cell_type": "markdown",
   "metadata": {},
   "source": [
    "정상적으로 데이터에서 Class 컬럼이 제거된 것을 확인할 수 있습니다."
   ]
  },
  {
   "cell_type": "code",
   "execution_count": null,
   "metadata": {
    "collapsed": false
   },
   "outputs": [],
   "source": [
    "data.head()"
   ]
  },
  {
   "cell_type": "markdown",
   "metadata": {},
   "source": [
    "## 2. Numpy로 평균, 중간값, 분산, 표준편차 구해보기 "
   ]
  },
  {
   "cell_type": "markdown",
   "metadata": {},
   "source": [
    "이제 평균, 중간값, 분산, 표준편차를 값의 분포 그래프와 함께 확인해보도록 하겠습니다.<br>\n",
    "평균(mean)은 numpy.mean() 함수로 구할 수 있습니다. "
   ]
  },
  {
   "cell_type": "code",
   "execution_count": null,
   "metadata": {
    "collapsed": true
   },
   "outputs": [],
   "source": [
    "means = list()\n",
    "means.append(np.mean(class_1, axis=0))\n",
    "means.append(np.mean(class_2, axis=0))\n",
    "means.append(np.mean(class_3, axis=0))"
   ]
  },
  {
   "cell_type": "code",
   "execution_count": null,
   "metadata": {
    "collapsed": false
   },
   "outputs": [],
   "source": [
    "means = pd.DataFrame(means, columns = class_1.columns,\n",
    "                        index = range(1,4))\n",
    "means"
   ]
  },
  {
   "cell_type": "markdown",
   "metadata": {},
   "source": [
    "중간값(median)은 numpy.median() 함수로 구할 수 있습니다."
   ]
  },
  {
   "cell_type": "code",
   "execution_count": null,
   "metadata": {
    "collapsed": true
   },
   "outputs": [],
   "source": [
    "medians = list()\n",
    "medians.append(np.median(class_1, axis=0))\n",
    "medians.append(np.median(class_2, axis=0))\n",
    "medians.append(np.median(class_3, axis=0))"
   ]
  },
  {
   "cell_type": "code",
   "execution_count": null,
   "metadata": {
    "collapsed": false
   },
   "outputs": [],
   "source": [
    "medians = pd.DataFrame(medians, columns = class_1.columns,\n",
    "                        index = range(1,4))\n",
    "medians"
   ]
  },
  {
   "cell_type": "markdown",
   "metadata": {},
   "source": [
    "분산(variance)은 numpy.var() 함수로 구할 수 있습니다."
   ]
  },
  {
   "cell_type": "code",
   "execution_count": null,
   "metadata": {
    "collapsed": true
   },
   "outputs": [],
   "source": [
    "variances = list()\n",
    "variances.append(np.var(class_1, axis=0))\n",
    "variances.append(np.var(class_2, axis=0))\n",
    "variances.append(np.var(class_3, axis=0))"
   ]
  },
  {
   "cell_type": "code",
   "execution_count": null,
   "metadata": {
    "collapsed": false
   },
   "outputs": [],
   "source": [
    "variances = pd.DataFrame(variances, columns = class_1.columns,\n",
    "                        index = range(1,4))\n",
    "variances"
   ]
  },
  {
   "cell_type": "markdown",
   "metadata": {},
   "source": [
    "표준편차(standard_deviation)는 numpy.std() 함수로 구할 수 있습니다."
   ]
  },
  {
   "cell_type": "code",
   "execution_count": null,
   "metadata": {
    "collapsed": true
   },
   "outputs": [],
   "source": [
    "stds = list()\n",
    "stds.append(np.std(class_1, axis=0))\n",
    "stds.append(np.std(class_2, axis=0))\n",
    "stds.append(np.std(class_3, axis=0))"
   ]
  },
  {
   "cell_type": "code",
   "execution_count": null,
   "metadata": {
    "collapsed": false,
    "scrolled": true
   },
   "outputs": [],
   "source": [
    "stds = pd.DataFrame(stds, columns = class_1.columns,\n",
    "                        index = range(1,4))\n",
    "stds"
   ]
  },
  {
   "cell_type": "markdown",
   "metadata": {},
   "source": [
    "## 3. 그래프와 함께 살펴보기 \n",
    "우리가 사용할 그래프는 Histogram과 Boxplot입니다.<br>\n",
    "#### Histogram\n",
    "특정 구간(bin)으로 데이터를 나누어 분포를 보여주는 그래프 입니다. <br>\n",
    "데이터의 분포와 경향을 대략적으로 확인할 수 있습니다.<br>\n",
    "\n",
    "#### Boxplot\n",
    "데이터의 평균, 중간값(제2사분위수), 최대최소, 제1사분위수(25%), 제3사분위수(75%) 및 사분편차(Interquantile Range,IQR)를 확인할 수 있는 그래프입니다.<br>\n",
    "평균은 점선으로 표시합니다. 중간값은 실선으로 표시합니다.<br>\n",
    "박스의 아랫면은 제1사분위수(25%)를 표시합니다.<br>\n",
    "박스의 윗면은 제3사분위수(75%)를 표시합니다.<br>\n",
    "사분편차는 25% ~ 75% 범위를 뜻하는데, 박스의 내부의 범위 입니다. 데이터들이 흩어진 정도를 알 수 있습니다.<br>\n",
    "상자 바깥으로 표시된 부분 중 선과 연결된 끝 부분은 최댓값과 최솟값을 나타냅니다.<br>\n",
    "최솟값과 최솟값을 나타내는 끝 부분을 넘어선(1.5*IQR 만큼을 넘어선) 데이터는 이상치로 간주되어 원으로 표시됩니다."
   ]
  },
  {
   "cell_type": "markdown",
   "metadata": {},
   "source": [
    "### 1) Alcohol \n",
    "- 알콜 도수."
   ]
  },
  {
   "cell_type": "code",
   "execution_count": null,
   "metadata": {
    "collapsed": false
   },
   "outputs": [],
   "source": [
    "plt.hist([class_1['Alcohol'],class_2['Alcohol'], class_3['Alcohol']], density=True)\n",
    "plt.title('Alcohol Histogram')\n",
    "plt.legend(['Class_1', 'Class_2', 'Class_3'])\n",
    "plt.show()"
   ]
  },
  {
   "cell_type": "code",
   "execution_count": null,
   "metadata": {
    "collapsed": false,
    "scrolled": true
   },
   "outputs": [],
   "source": [
    "plt.boxplot([class_1['Alcohol'],class_2['Alcohol'], class_3['Alcohol']], \n",
    "            labels=['Class_1', 'Class_2', 'Class_3'],\n",
    "           meanline=True,\n",
    "           showmeans=True)\n",
    "plt.title('Alcohol Boxplot')\n",
    "plt.show()"
   ]
  },
  {
   "cell_type": "code",
   "execution_count": null,
   "metadata": {
    "collapsed": false,
    "scrolled": true
   },
   "outputs": [],
   "source": [
    "print('Mean')\n",
    "print(means['Alcohol'].values)\n",
    "print('Median')\n",
    "print(medians['Alcohol'].values)\n",
    "print('Variance')\n",
    "print(variances['Alcohol'].values)\n",
    "print('Standard Deviation')\n",
    "print(stds['Alcohol'].values)"
   ]
  },
  {
   "cell_type": "markdown",
   "metadata": {},
   "source": [
    "### 2) Malic Acid\n",
    "- 와인 특유의 신맛을 나타내는 성분."
   ]
  },
  {
   "cell_type": "code",
   "execution_count": null,
   "metadata": {
    "collapsed": false,
    "scrolled": false
   },
   "outputs": [],
   "source": [
    "plt.hist([class_1['Malic acid'],class_2['Malic acid'], class_3['Malic acid']], density=True)\n",
    "plt.title('Malic acid Histogram')\n",
    "plt.legend(['Class_1', 'Class_2', 'Class_3'])\n",
    "plt.show()"
   ]
  },
  {
   "cell_type": "code",
   "execution_count": null,
   "metadata": {
    "collapsed": false,
    "scrolled": false
   },
   "outputs": [],
   "source": [
    "plt.boxplot([class_1['Malic acid'],class_2['Malic acid'], class_3['Malic acid']], \n",
    "            labels=['Class_1', 'Class_2', 'Class_3'],\n",
    "           meanline=True,\n",
    "           showmeans=True)\n",
    "plt.title('Malic acid Boxplot')\n",
    "plt.show()"
   ]
  },
  {
   "cell_type": "code",
   "execution_count": null,
   "metadata": {
    "collapsed": false
   },
   "outputs": [],
   "source": [
    "print('Mean')\n",
    "print(means['Malic acid'].values)\n",
    "print('Median')\n",
    "print(medians['Malic acid'].values)\n",
    "print('Variance')\n",
    "print(variances['Malic acid'].values)\n",
    "print('Standard Deviation')\n",
    "print(stds['Malic acid'].values)"
   ]
  },
  {
   "cell_type": "markdown",
   "metadata": {},
   "source": [
    "###  3) Ash\n",
    "- 영양학에서, 음식물 속에 들어 있는 무기물 또는 무기물의 전체 분량에 대한 비율을 이르는 말."
   ]
  },
  {
   "cell_type": "code",
   "execution_count": null,
   "metadata": {
    "collapsed": false,
    "scrolled": true
   },
   "outputs": [],
   "source": [
    "plt.hist([class_1['Ash'],class_2['Ash'], class_3['Ash']], density=True)\n",
    "plt.title('Ash Histogram')\n",
    "plt.legend(['Class_1', 'Class_2', 'Class_3'])\n",
    "plt.show()"
   ]
  },
  {
   "cell_type": "code",
   "execution_count": null,
   "metadata": {
    "collapsed": false,
    "scrolled": true
   },
   "outputs": [],
   "source": [
    "plt.boxplot([class_1['Ash'],class_2['Ash'], class_3['Ash']], \n",
    "            labels=['Class_1', 'Class_2', 'Class_3'],\n",
    "           meanline=True,\n",
    "           showmeans=True)\n",
    "plt.title('Ash Boxplot')\n",
    "plt.show()"
   ]
  },
  {
   "cell_type": "code",
   "execution_count": null,
   "metadata": {
    "collapsed": false
   },
   "outputs": [],
   "source": [
    "print('Mean')\n",
    "print(means['Ash'].values)\n",
    "print('Median')\n",
    "print(medians['Ash'].values)\n",
    "print('Variance')\n",
    "print(variances['Ash'].values)\n",
    "print('Standard Deviation')\n",
    "print(stds['Ash'].values)"
   ]
  },
  {
   "cell_type": "markdown",
   "metadata": {},
   "source": [
    "### 4) Alcalinity of ash\n",
    "- 무기물의 염기성 정도."
   ]
  },
  {
   "cell_type": "code",
   "execution_count": null,
   "metadata": {
    "collapsed": false,
    "scrolled": true
   },
   "outputs": [],
   "source": [
    "plt.hist([class_1['Alcalinity of ash'],class_2['Alcalinity of ash'], class_3['Alcalinity of ash']], density=True)\n",
    "plt.title('Alcalinity of ash Histogram')\n",
    "plt.legend(['Class_1', 'Class_2', 'Class_3'])\n",
    "plt.show()"
   ]
  },
  {
   "cell_type": "code",
   "execution_count": null,
   "metadata": {
    "collapsed": false,
    "scrolled": true
   },
   "outputs": [],
   "source": [
    "plt.boxplot([class_1['Alcalinity of ash'],class_2['Alcalinity of ash'], class_3['Alcalinity of ash']], \n",
    "            labels=['Class_1', 'Class_2', 'Class_3'],\n",
    "           meanline=True,\n",
    "           showmeans=True)\n",
    "plt.title('Ash Boxplot')\n",
    "plt.show()"
   ]
  },
  {
   "cell_type": "code",
   "execution_count": null,
   "metadata": {
    "collapsed": false
   },
   "outputs": [],
   "source": [
    "print('Mean')\n",
    "print(means['Alcalinity of ash'].values)\n",
    "print('Median')\n",
    "print(medians['Alcalinity of ash'].values)\n",
    "print('Variance')\n",
    "print(variances['Alcalinity of ash'].values)\n",
    "print('Standard Deviation')\n",
    "print(stds['Alcalinity of ash'].values)"
   ]
  },
  {
   "cell_type": "markdown",
   "metadata": {},
   "source": [
    "### 5) Magnesium\n",
    "- 마그네슘 함량."
   ]
  },
  {
   "cell_type": "code",
   "execution_count": null,
   "metadata": {
    "collapsed": false,
    "scrolled": true
   },
   "outputs": [],
   "source": [
    "plt.hist([class_1['Magnesium'],class_2['Magnesium'], class_3['Magnesium']], density=True)\n",
    "plt.title('Magnesium Histogram')\n",
    "plt.legend(['Class_1', 'Class_2', 'Class_3'])\n",
    "plt.show()"
   ]
  },
  {
   "cell_type": "code",
   "execution_count": null,
   "metadata": {
    "collapsed": false,
    "scrolled": true
   },
   "outputs": [],
   "source": [
    "plt.boxplot([class_1['Magnesium'],class_2['Magnesium'], class_3['Magnesium']], \n",
    "            labels=['Class_1', 'Class_2', 'Class_3'],\n",
    "           meanline=True,\n",
    "           showmeans=True)\n",
    "plt.title('Ash Boxplot')\n",
    "plt.show()"
   ]
  },
  {
   "cell_type": "code",
   "execution_count": null,
   "metadata": {
    "collapsed": false
   },
   "outputs": [],
   "source": [
    "print('Mean')\n",
    "print(means['Magnesium'].values)\n",
    "print('Median')\n",
    "print(medians['Magnesium'].values)\n",
    "print('Variance')\n",
    "print(variances['Magnesium'].values)\n",
    "print('Standard Deviation')\n",
    "print(stds['Magnesium'].values)"
   ]
  },
  {
   "cell_type": "markdown",
   "metadata": {},
   "source": [
    "### 6) Total phenols\n",
    "- 와인에 들어있는 페놀의 전체 양."
   ]
  },
  {
   "cell_type": "code",
   "execution_count": null,
   "metadata": {
    "collapsed": false,
    "scrolled": true
   },
   "outputs": [],
   "source": [
    "plt.hist([class_1['Total phenols'],class_2['Total phenols'], class_3['Total phenols']], density=True)\n",
    "plt.title('Total phenols Histogram')\n",
    "plt.legend(['Class_1', 'Class_2', 'Class_3'])\n",
    "plt.show()"
   ]
  },
  {
   "cell_type": "code",
   "execution_count": null,
   "metadata": {
    "collapsed": false,
    "scrolled": true
   },
   "outputs": [],
   "source": [
    "plt.boxplot([class_1['Total phenols'],class_2['Total phenols'], class_3['Total phenols']], \n",
    "            labels=['Class_1', 'Class_2', 'Class_3'],\n",
    "           meanline=True,\n",
    "           showmeans=True)\n",
    "plt.title('Total phenols Boxplot')\n",
    "plt.show()"
   ]
  },
  {
   "cell_type": "code",
   "execution_count": null,
   "metadata": {
    "collapsed": false
   },
   "outputs": [],
   "source": [
    "print('Mean')\n",
    "print(means['Total phenols'].values)\n",
    "print('Median')\n",
    "print(medians['Total phenols'].values)\n",
    "print('Variance')\n",
    "print(variances['Total phenols'].values)\n",
    "print('Standard Deviation')\n",
    "print(stds['Total phenols'].values)"
   ]
  },
  {
   "cell_type": "markdown",
   "metadata": {},
   "source": [
    "### 7) Flavanoids\n",
    "- 레드 와인의 페놀 성분 중 최대 90% 비율을 나타내는 폴리 페놀 성분을 플라보노이드 라고 한다. 떫은 맛을 내는 탄닌이 플라보노이드에 속한다."
   ]
  },
  {
   "cell_type": "code",
   "execution_count": null,
   "metadata": {
    "collapsed": false,
    "scrolled": true
   },
   "outputs": [],
   "source": [
    "plt.hist([class_1['Flavanoids'],class_2['Flavanoids'], class_3['Flavanoids']], density=True)\n",
    "plt.title('Flavanoids Histogram')\n",
    "plt.legend(['Class_1', 'Class_2', 'Class_3'])\n",
    "plt.show()"
   ]
  },
  {
   "cell_type": "code",
   "execution_count": null,
   "metadata": {
    "collapsed": false,
    "scrolled": true
   },
   "outputs": [],
   "source": [
    "plt.boxplot([class_1['Flavanoids'],class_2['Flavanoids'], class_3['Flavanoids']], \n",
    "            labels=['Class_1', 'Class_2', 'Class_3'],\n",
    "           meanline=True,\n",
    "           showmeans=True)\n",
    "plt.title('Flavanoids Boxplot')\n",
    "plt.show()"
   ]
  },
  {
   "cell_type": "code",
   "execution_count": null,
   "metadata": {
    "collapsed": false
   },
   "outputs": [],
   "source": [
    "print('Mean')\n",
    "print(means['Flavanoids'].values)\n",
    "print('Median')\n",
    "print(medians['Flavanoids'].values)\n",
    "print('Variance')\n",
    "print(variances['Flavanoids'].values)\n",
    "print('Standard Deviation')\n",
    "print(stds['Flavanoids'].values)"
   ]
  },
  {
   "cell_type": "markdown",
   "metadata": {},
   "source": [
    "### 8) Nonflavanoid phenols\n",
    "- 90% 성분을 제외한 10%의 페놀 성분들."
   ]
  },
  {
   "cell_type": "code",
   "execution_count": null,
   "metadata": {
    "collapsed": false,
    "scrolled": true
   },
   "outputs": [],
   "source": [
    "plt.hist([class_1['Nonflavanoid phenols'],class_2['Nonflavanoid phenols'], class_3['Nonflavanoid phenols']], density=True)\n",
    "plt.title('Nonflavanoid phenols Histogram')\n",
    "plt.legend(['Class_1', 'Class_2', 'Class_3'])\n",
    "plt.show()"
   ]
  },
  {
   "cell_type": "code",
   "execution_count": null,
   "metadata": {
    "collapsed": false,
    "scrolled": true
   },
   "outputs": [],
   "source": [
    "plt.boxplot([class_1['Nonflavanoid phenols'],class_2['Nonflavanoid phenols'], class_3['Nonflavanoid phenols']], \n",
    "            labels=['Class_1', 'Class_2', 'Class_3'],\n",
    "           meanline=True,\n",
    "           showmeans=True)\n",
    "plt.title('Nonflavanoid phenols Boxplot')\n",
    "plt.show()"
   ]
  },
  {
   "cell_type": "code",
   "execution_count": null,
   "metadata": {
    "collapsed": false
   },
   "outputs": [],
   "source": [
    "print('Mean')\n",
    "print(means['Nonflavanoid phenols'].values)\n",
    "print('Median')\n",
    "print(medians['Nonflavanoid phenols'].values)\n",
    "print('Variance')\n",
    "print(variances['Nonflavanoid phenols'].values)\n",
    "print('Standard Deviation')\n",
    "print(stds['Nonflavanoid phenols'].values)"
   ]
  },
  {
   "cell_type": "markdown",
   "metadata": {},
   "source": [
    "### 9) Proanthocyanins\n",
    "- 심장혈관 질환의 발병률을 낮추는데 도움을 주는 성분."
   ]
  },
  {
   "cell_type": "code",
   "execution_count": null,
   "metadata": {
    "collapsed": false,
    "scrolled": true
   },
   "outputs": [],
   "source": [
    "plt.hist([class_1['Proanthocyanins'],class_2['Proanthocyanins'], class_3['Proanthocyanins']], density=True)\n",
    "plt.title('Proanthocyanins Histogram')\n",
    "plt.legend(['Class_1', 'Class_2', 'Class_3'])\n",
    "plt.show()"
   ]
  },
  {
   "cell_type": "code",
   "execution_count": null,
   "metadata": {
    "collapsed": false,
    "scrolled": true
   },
   "outputs": [],
   "source": [
    "plt.boxplot([class_1['Proanthocyanins'],class_2['Proanthocyanins'], class_3['Proanthocyanins']], \n",
    "            labels=['Class_1', 'Class_2', 'Class_3'],\n",
    "           meanline=True,\n",
    "           showmeans=True)\n",
    "plt.title('Proanthocyanins Boxplot')\n",
    "plt.show()"
   ]
  },
  {
   "cell_type": "code",
   "execution_count": null,
   "metadata": {
    "collapsed": false
   },
   "outputs": [],
   "source": [
    "print('Mean')\n",
    "print(means['Proanthocyanins'].values)\n",
    "print('Median')\n",
    "print(medians['Proanthocyanins'].values)\n",
    "print('Variance')\n",
    "print(variances['Proanthocyanins'].values)\n",
    "print('Standard Deviation')\n",
    "print(stds['Proanthocyanins'].values)"
   ]
  },
  {
   "cell_type": "markdown",
   "metadata": {},
   "source": [
    "### 10)  Color intensity\n",
    "- 색의 진한 정도."
   ]
  },
  {
   "cell_type": "code",
   "execution_count": null,
   "metadata": {
    "collapsed": false,
    "scrolled": true
   },
   "outputs": [],
   "source": [
    "plt.hist([class_1['Color intensity'],class_2['Color intensity'], class_3['Color intensity']], density=True)\n",
    "plt.title('Color intensity Histogram')\n",
    "plt.legend(['Class_1', 'Class_2', 'Class_3'])\n",
    "plt.show()"
   ]
  },
  {
   "cell_type": "code",
   "execution_count": null,
   "metadata": {
    "collapsed": false,
    "scrolled": true
   },
   "outputs": [],
   "source": [
    "plt.boxplot([class_1['Color intensity'],class_2['Color intensity'], class_3['Color intensity']], \n",
    "            labels=['Class_1', 'Class_2', 'Class_3'],\n",
    "           meanline=True,\n",
    "           showmeans=True)\n",
    "plt.title('Color intensity Boxplot')\n",
    "plt.show()"
   ]
  },
  {
   "cell_type": "code",
   "execution_count": null,
   "metadata": {
    "collapsed": false
   },
   "outputs": [],
   "source": [
    "print('Mean')\n",
    "print(means['Color intensity'].values)\n",
    "print('Median')\n",
    "print(medians['Color intensity'].values)\n",
    "print('Variance')\n",
    "print(variances['Color intensity'].values)\n",
    "print('Standard Deviation')\n",
    "print(stds['Color intensity'].values)"
   ]
  },
  {
   "cell_type": "markdown",
   "metadata": {},
   "source": [
    "### 11) Hue\n",
    "- 와인을 잔에 따라 흔들었을 때 와인과 글라스의 경계 부분의 색깔이 다른 정도. Edge 라고도 한다."
   ]
  },
  {
   "cell_type": "code",
   "execution_count": null,
   "metadata": {
    "collapsed": false,
    "scrolled": true
   },
   "outputs": [],
   "source": [
    "plt.hist([class_1['Hue'],class_2['Hue'], class_3['Hue']], density=True)\n",
    "plt.title('Hue Histogram')\n",
    "plt.legend(['Class_1', 'Class_2', 'Class_3'])\n",
    "plt.show()"
   ]
  },
  {
   "cell_type": "code",
   "execution_count": null,
   "metadata": {
    "collapsed": false,
    "scrolled": true
   },
   "outputs": [],
   "source": [
    "plt.boxplot([class_1['Hue'],class_2['Hue'], class_3['Hue']], \n",
    "            labels=['Class_1', 'Class_2', 'Class_3'],\n",
    "           meanline=True,\n",
    "           showmeans=True)\n",
    "plt.title('Hue Boxplot')\n",
    "plt.show()"
   ]
  },
  {
   "cell_type": "code",
   "execution_count": null,
   "metadata": {
    "collapsed": false
   },
   "outputs": [],
   "source": [
    "print('Mean')\n",
    "print(means['Hue'].values)\n",
    "print('Median')\n",
    "print(medians['Hue'].values)\n",
    "print('Variance')\n",
    "print(variances['Hue'].values)\n",
    "print('Standard Deviation')\n",
    "print(stds['Hue'].values)"
   ]
  },
  {
   "cell_type": "markdown",
   "metadata": {},
   "source": [
    "### 12) OD280/OD315 of diluted wines"
   ]
  },
  {
   "cell_type": "code",
   "execution_count": null,
   "metadata": {
    "collapsed": false,
    "scrolled": true
   },
   "outputs": [],
   "source": [
    "plt.hist([class_1['OD280/OD315 of diluted wines'],class_2['OD280/OD315 of diluted wines'], class_3['OD280/OD315 of diluted wines']], \n",
    "         density=True)\n",
    "plt.title('OD280/OD315 of diluted wines Histogram')\n",
    "plt.legend(['Class_1', 'Class_2', 'Class_3'])\n",
    "plt.show()"
   ]
  },
  {
   "cell_type": "code",
   "execution_count": null,
   "metadata": {
    "collapsed": false,
    "scrolled": true
   },
   "outputs": [],
   "source": [
    "plt.boxplot([class_1['OD280/OD315 of diluted wines'],class_2['OD280/OD315 of diluted wines'], class_3['OD280/OD315 of diluted wines']], \n",
    "            labels=['Class_1', 'Class_2', 'Class_3'],\n",
    "           meanline=True,\n",
    "           showmeans=True)\n",
    "plt.title('OD280/OD315 of diluted wines Boxplot')\n",
    "plt.show()"
   ]
  },
  {
   "cell_type": "code",
   "execution_count": null,
   "metadata": {
    "collapsed": false
   },
   "outputs": [],
   "source": [
    "print('Mean')\n",
    "print(means['OD280/OD315 of diluted wines'].values)\n",
    "print('Median')\n",
    "print(medians['OD280/OD315 of diluted wines'].values)\n",
    "print('Variance')\n",
    "print(variances['OD280/OD315 of diluted wines'].values)\n",
    "print('Standard Deviation')\n",
    "print(stds['OD280/OD315 of diluted wines'].values)"
   ]
  },
  {
   "cell_type": "markdown",
   "metadata": {},
   "source": [
    "### 13) Proline\n",
    "- 와인의 아미노산 성분 중 가장 많은 양을 차지하는 아미노산."
   ]
  },
  {
   "cell_type": "code",
   "execution_count": null,
   "metadata": {
    "collapsed": false,
    "scrolled": true
   },
   "outputs": [],
   "source": [
    "plt.hist([class_1['Proline'],class_2['Proline'], class_3['Proline']], density=True)\n",
    "plt.title('Proline Histogram')\n",
    "plt.legend(['Class_1', 'Class_2', 'Class_3'])\n",
    "plt.show()"
   ]
  },
  {
   "cell_type": "code",
   "execution_count": null,
   "metadata": {
    "collapsed": false,
    "scrolled": true
   },
   "outputs": [],
   "source": [
    "plt.boxplot([class_1['Proline'],class_2['Proline'], class_3['Proline']], \n",
    "            labels=['Class_1', 'Class_2', 'Class_3'],\n",
    "           meanline=True,\n",
    "           showmeans=True)\n",
    "plt.title('Proline Boxplot')\n",
    "plt.show()"
   ]
  },
  {
   "cell_type": "code",
   "execution_count": null,
   "metadata": {
    "collapsed": false
   },
   "outputs": [],
   "source": [
    "print('Mean')\n",
    "print(means['Proline'].values)\n",
    "print('Median')\n",
    "print(medians['Proline'].values)\n",
    "print('Variance')\n",
    "print(variances['Proline'].values)\n",
    "print('Standard Deviation')\n",
    "print(stds['Proline'].values)"
   ]
  },
  {
   "cell_type": "markdown",
   "metadata": {},
   "source": [
    "클래스 별로 Mean, Median, Variance, Standard Deviation을 분포 그래프와 확인해 볼 수 있었습니다."
   ]
  },
  {
   "cell_type": "markdown",
   "metadata": {},
   "source": [
    "### Reference\n",
    "\n",
    "- 평균 https://en.wikipedia.org/wiki/Mean\n",
    "- 중간값 https://en.wikipedia.org/wiki/Median\n",
    "- 분산 https://en.wikipedia.org/wiki/Variance\n",
    "- 표준편차 https://en.wikipedia.org/wiki/Standard_deviation"
   ]
  }
 ],
 "metadata": {
  "kernelspec": {
   "display_name": "sstest",
   "language": "python",
   "name": "sstest"
  },
  "language_info": {
   "codemirror_mode": {
    "name": "ipython",
    "version": 3
   },
   "file_extension": ".py",
   "mimetype": "text/x-python",
   "name": "python",
   "nbconvert_exporter": "python",
   "pygments_lexer": "ipython3",
   "version": "3.5.6"
  }
 },
 "nbformat": 4,
 "nbformat_minor": 2
}
