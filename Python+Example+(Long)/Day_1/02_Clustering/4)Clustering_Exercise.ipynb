{
 "cells": [
  {
   "cell_type": "markdown",
   "metadata": {},
   "source": [
    "Lab01-2\n",
    "======"
   ]
  },
  {
   "cell_type": "markdown",
   "metadata": {},
   "source": [
    "## 클러스터링 연습문제\n",
    "이번 실습 수업에 배운 클러스터링의 연습 문제로 Abalone data, 전복 데이터를 클러스터링 해보겠습니다.<br>\n",
    "이전 챕터의 예제 코드를 기반으로 클러스터링을 진행하시면 되겠습니다.<br>\n",
    "k-means, Hierarchical 중 맘에 드는 알고리즘을 사용해보시고, 주어진 시각화 코드를 사용해 시각화를 해보세요.<br>"
   ]
  },
  {
   "cell_type": "code",
   "execution_count": null,
   "metadata": {},
   "outputs": [],
   "source": [
    "from os.path import join\n",
    "from sklearn.cluster import KMeans\n",
    "from sklearn.metrics import silhouette_samples, silhouette_score\n",
    "from sklearn.cluster import AgglomerativeClustering\n",
    "import matplotlib.pyplot as plt\n",
    "import matplotlib.cm as cm\n",
    "import numpy as np\n",
    "import pandas as pd\n",
    "import random\n",
    "import time\n",
    "\n",
    "datapath = join('data','abalone.txt')\n",
    "labelpath = join('data','abalone_attributes.txt')\n",
    "\n",
    "columns = list()\n",
    "with open(labelpath, 'r') as f:\n",
    "    columns = f.read().split('\\n')"
   ]
  },
  {
   "cell_type": "markdown",
   "metadata": {},
   "source": [
    "## 1. 데이터 살펴보기\n",
    "전복 데이터는 9개의 컬럼으로 이루어진 데이터 입니다.<br>\n",
    "9개의 컬럼 중 하나의 컬럼은 성별(남,여,유아기)를 기준으로 분류를 진행할 수도 있습니다.<br>\n",
    "하지만, 이번 수업에서는 클러스터링을 진행해 보겠습니다.<br>\n",
    "데이터를 살펴보기 쉽게 pandas DataFrame으로 읽습니다.<br><br>\n",
    "\n",
    "### Feature Description \n",
    "1. Sex : 성별\n",
    "2. Length : 껍질의 가장 긴 길이\n",
    "3. Diameter : 길이의 수직 길이 (직경)\n",
    "4. Height : 껍질의 높이\n",
    "5. Whole weight : 전체 중량\n",
    "6. Shucked weight : 살 중량 \n",
    "7. Viscera weight : 내장 중량\n",
    "8. Shell weight : 껍질 중량\n",
    "9. Rings : 1.5년마다 증가하는 링의 수"
   ]
  },
  {
   "cell_type": "code",
   "execution_count": 1,
   "metadata": {},
   "outputs": [
    {
     "ename": "NameError",
     "evalue": "name 'pd' is not defined",
     "output_type": "error",
     "traceback": [
      "\u001b[0;31m---------------------------------------------------------------------------\u001b[0m",
      "\u001b[0;31mNameError\u001b[0m                                 Traceback (most recent call last)",
      "\u001b[0;32m<ipython-input-1-a59f7ebf9c9a>\u001b[0m in \u001b[0;36m<module>\u001b[0;34m\u001b[0m\n\u001b[0;32m----> 1\u001b[0;31m \u001b[0mdata\u001b[0m \u001b[0;34m=\u001b[0m \u001b[0mpd\u001b[0m\u001b[0;34m.\u001b[0m\u001b[0mread_csv\u001b[0m\u001b[0;34m(\u001b[0m\u001b[0mdatapath\u001b[0m\u001b[0;34m,\u001b[0m \u001b[0mnames\u001b[0m \u001b[0;34m=\u001b[0m \u001b[0mcolumns\u001b[0m\u001b[0;34m)\u001b[0m\u001b[0;34m\u001b[0m\u001b[0m\n\u001b[0m",
      "\u001b[0;31mNameError\u001b[0m: name 'pd' is not defined"
     ]
    }
   ],
   "source": [
    "data = pd.read_csv(datapath, names = columns)"
   ]
  },
  {
   "cell_type": "markdown",
   "metadata": {},
   "source": [
    "DataFrame.head() 함수로 처음 5개의 데이터를 살펴볼 수 있습니다."
   ]
  },
  {
   "cell_type": "code",
   "execution_count": null,
   "metadata": {},
   "outputs": [],
   "source": [
    "data.head()"
   ]
  },
  {
   "cell_type": "markdown",
   "metadata": {},
   "source": [
    " ## 2. 간단한 전처리와 준비"
   ]
  },
  {
   "cell_type": "markdown",
   "metadata": {},
   "source": [
    "전복 데이터는 9개의 컬럼을 가지고 있고, 하나의 데이터(행)는 9개의 차원으로 이루어진 벡터라고 볼 수 있습니다. <br>\n",
    "9차원은 우리 눈으로 볼 수 있도록 표현하기 어려우므로 두개의 컬럼을 선택해 시각화할 수 있도록 해보세요.<br>\n",
    "또한, 클러스터링에서 사용하는 거리 측정 방식은 수치 데이터에만 적용할 수 있으므로 범주 형 변수인 성별 변수는 제거하고,<br> 각 변수들의 값의 범위를 min-max 정규화를 통해 조정해주겠습니다."
   ]
  },
  {
   "cell_type": "code",
   "execution_count": null,
   "metadata": {},
   "outputs": [],
   "source": [
    "del data['Sex']"
   ]
  },
  {
   "cell_type": "code",
   "execution_count": null,
   "metadata": {},
   "outputs": [],
   "source": [
    "for dim in data.columns:\n",
    "        data[dim] -= np.min(data[dim])\n",
    "        data[dim] /= np.max(data[dim])"
   ]
  },
  {
   "cell_type": "code",
   "execution_count": null,
   "metadata": {},
   "outputs": [],
   "source": [
    "data.head()"
   ]
  },
  {
   "cell_type": "markdown",
   "metadata": {},
   "source": [
    "#### 모델의 입력으로 사용할 X 변수에 2개의 컬럼을 선택해 2차원 데이터를 만들어 주세요.\n",
    "힌트 : X = np.array(pd.concat([data['첫 번째 컬럼'] ,data['두 번째 컬럼']],axis=1))"
   ]
  },
  {
   "cell_type": "code",
   "execution_count": null,
   "metadata": {},
   "outputs": [],
   "source": [
    "X = "
   ]
  },
  {
   "cell_type": "markdown",
   "metadata": {},
   "source": [
    "## 3. Sklearn을 사용해 자유롭게 클러스터링 해보기\n",
    "클러스터의 개수를 자유롭게 지정해 주세요.<br>\n",
    "클러스터링을 진행하여 얻은 클러스터 번호는 반드시 labels 변수에 저장해주세요."
   ]
  },
  {
   "cell_type": "code",
   "execution_count": null,
   "metadata": {},
   "outputs": [],
   "source": [
    "# 클러스터의 개수\n",
    "n_clusters = \n",
    "\n",
    "# Skelarn 모델 정의\n",
    "model = \n",
    "\n",
    "# 클러스터 생성\n",
    "\n",
    "# 클러스터 번호 할당\n",
    "labels = "
   ]
  },
  {
   "cell_type": "code",
   "execution_count": null,
   "metadata": {},
   "outputs": [],
   "source": [
    "#시각화 코드\n",
    "plt.scatter(X[:,0], X[:,1], c=labels)\n",
    "plt.title('Sklearn k-means Cluster')\n",
    "plt.show()"
   ]
  },
  {
   "cell_type": "markdown",
   "metadata": {},
   "source": [
    "## 4. 클러스터링 결과\n",
    "클러스터링된 결과와 클러스터에 사용된 두 변수들의 평균을 비교해 보겠습니다."
   ]
  },
  {
   "cell_type": "code",
   "execution_count": null,
   "metadata": {},
   "outputs": [],
   "source": [
    "#labels numpy 배열로부터 특정한 클러스터에 할당된 점의 인덱스를 뽑아 점을 선택합니다.\n",
    "clusters = list()\n",
    "for i in range(n_clusters):\n",
    "    clusters.append(X[labels == i])"
   ]
  },
  {
   "cell_type": "code",
   "execution_count": null,
   "metadata": {},
   "outputs": [],
   "source": [
    "for i, x_c in enumerate(clusters):\n",
    "    print('{}번 클러스터의 첫 번째 변수 평균 : {:.2f} 두 번째 변수의 평균 : {:.2f}'.format(\n",
    "                                                i,\n",
    "                                                np.mean(x_c[:,0]), \n",
    "                                                np.mean(x_c[:,1])))"
   ]
  },
  {
   "cell_type": "markdown",
   "metadata": {},
   "source": [
    "## 5. 클러스터 평가하기\n",
    "클러스터 평가 방법인 실루엣 스코어를 사용해 클러스터가 잘 되었는지 확인해 보겠습니다."
   ]
  },
  {
   "cell_type": "code",
   "execution_count": null,
   "metadata": {},
   "outputs": [],
   "source": [
    "silhouette_avg = silhouette_score(X, labels)\n",
    "sample_silhouette_values = silhouette_samples(data, labels)\n",
    "\n",
    "fig, (ax1, ax2) = plt.subplots(1, 2)\n",
    "\n",
    "fig.set_size_inches(10, 5)\n",
    "ax1.set_xlim([-0.1, 1])\n",
    "ax1.set_ylim([0, len(data) + (n_clusters + 1) * 10])\n",
    "\n",
    "def get_centroid(data, label, n_clusters):\n",
    "    centroid = list()\n",
    "    for i in range(n_clusters):\n",
    "        x = data[label == i][:,0]\n",
    "        y = data[label == i][:,1]\n",
    "        x = np.mean(x)\n",
    "        y = np.mean(y)\n",
    "        centroid.append([x,y])\n",
    "    return np.array(centroid)\n",
    "\n",
    "\n",
    "y_lower = 10\n",
    "for i in range(n_clusters):\n",
    "    # 클러스터 i 에 속한 샘플들의 실루엣 점수를 모아 점수에 따라 정렬합니다.\n",
    "    ith_cluster_silhouette_values = \\\n",
    "        sample_silhouette_values[labels == i]\n",
    "\n",
    "    ith_cluster_silhouette_values.sort()\n",
    "\n",
    "    size_cluster_i = ith_cluster_silhouette_values.shape[0]\n",
    "    y_upper = y_lower + size_cluster_i\n",
    "\n",
    "    color = cm.nipy_spectral(float(i) / n_clusters)\n",
    "    ax1.fill_betweenx(np.arange(y_lower, y_upper),\n",
    "                      0, ith_cluster_silhouette_values,\n",
    "                      facecolor=color, edgecolor=color, alpha=0.7)\n",
    "\n",
    "    # 실루엣 plot에 클러스터 라벨을 달아줍니다.\n",
    "    ax1.text(-0.05, y_lower + 0.5 * size_cluster_i, str(i))\n",
    "\n",
    "    # 다음 클러스터의 실루엣 plot을 그리기 위해 간격을 추가합니다.\n",
    "    y_lower = y_upper + 10 \n",
    "ax1.set_title(\"The silhouette plot for the various clusters.\")\n",
    "ax1.set_xlabel(\"The silhouette coefficient values\")\n",
    "ax1.set_ylabel(\"Cluster label\")\n",
    "# 평균 실루엣 score를 표시할 빨간 세로 점선을 그려줍니다.\n",
    "ax1.axvline(x=silhouette_avg, color=\"red\", linestyle=\"--\")\n",
    "\n",
    "ax1.set_yticks([])  # y축에 표시되는 값들을 제거해줍니다.\n",
    "ax1.set_xticks([-0.1, 0, 0.2, 0.4, 0.6, 0.8, 1])\n",
    "\n",
    "# 두 번째 그림은 실제로 클러스터링 된 데이터를 보여줍니다\n",
    "colors = cm.nipy_spectral(labels.astype(float) / n_clusters)\n",
    "ax2.scatter(X[:, 0], X[:, 1], marker='.', s=30, lw=0, alpha=0.7,\n",
    "            c=colors, edgecolor='k')\n",
    "\n",
    "# 클러스터에 라벨을 달아주기 위해 중심점을 얻어냅니다. \n",
    "centers = get_centroid(X, labels, n_clusters)\n",
    "# 각 클러스터 중심점에 클러스터 라벨을 달아줍니다.\n",
    "ax2.scatter(centers[:, 0], centers[:, 1], marker='o',\n",
    "            c=\"white\", alpha=1, s=200, edgecolor='k')\n",
    "\n",
    "for i, c in enumerate(centers):\n",
    "    ax2.scatter(c[0], c[1], marker='$%d$' % i, alpha=1,\n",
    "                s=50, edgecolor='k')\n",
    "\n",
    "ax2.set_title(\"The visualization of the clustered data.\")\n",
    "ax2.set_xlabel(\"Feature space for the 1st feature\")\n",
    "ax2.set_ylabel(\"Feature space for the 2nd feature\")\n",
    "\n",
    "plt.suptitle((\"Silhouette analysis for clustering on sample data \",\n",
    "                      \"with n_clusters = %d\" % n_clusters),\n",
    "                     fontsize=14, fontweight='bold')\n",
    "print(\"클러스터의 수 = {}, 평균 실루엣 score : {:.3f}\".format(n_clusters,silhouette_avg))\n",
    "plt.show()"
   ]
  },
  {
   "cell_type": "markdown",
   "metadata": {},
   "source": [
    "실루엣 점수가 0.5가 넘으셨나요? 넘지 않으셨다면, 클러스터링 모델을 조정하거나 변수를 변경하여 0.5를 달성해 보세요."
   ]
  }
 ],
 "metadata": {
  "kernelspec": {
   "display_name": "sstest",
   "language": "python",
   "name": "sstest"
  },
  "language_info": {
   "codemirror_mode": {
    "name": "ipython",
    "version": 3
   },
   "file_extension": ".py",
   "mimetype": "text/x-python",
   "name": "python",
   "nbconvert_exporter": "python",
   "pygments_lexer": "ipython3",
   "version": "3.5.6"
  }
 },
 "nbformat": 4,
 "nbformat_minor": 2
}
