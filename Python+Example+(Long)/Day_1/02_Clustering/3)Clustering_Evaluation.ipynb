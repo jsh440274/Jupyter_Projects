{
 "cells": [
  {
   "cell_type": "markdown",
   "metadata": {},
   "source": [
    "Lab01-2\n",
    "======"
   ]
  },
  {
   "cell_type": "markdown",
   "metadata": {},
   "source": [
    "### Context\n",
    "#### Clustering\n",
    "+ Clustering Evaluation"
   ]
  },
  {
   "cell_type": "markdown",
   "metadata": {},
   "source": [
    "# Clustering Evaluation\n",
    "이번 수업에서는 클러스터링 알고리즘을 평가하는 방법에 대해 알아보도록 하겠습니다.\n",
    "\n",
    "### 1. Silhouette\n",
    "+ 실루엣 값은 한 클러스터 안의 데이터들이 다른 클러스터와 비교해서 얼마나 비슷한가를 나타냅니다.<br>\n",
    "+ 같은 클러스터 내의 점들간 거리는 가깝고(cohesion) 서로 다른 클러스터 간의 거리는 멀수록(separation) 높은 값을 얻을 수 있습니다.<br>\n",
    "+ 실루엣 값이 1에 근접한다는 것은 같은 클러스터 내의 평균거리가 다른 클러스터와의 평균거리보다 가깝다는 것을 의미합니다.\n",
    "+ 일반적으로 실루엣 값이 0.5보다 크다면 데이터가 잘 클러스터링 되었다는 것을 나타냅니다.\n",
    "\n",
    "실루엣 공식은 다음과 같습니다.\n",
    "$$ S_i = { {(b_i - a_i)} \\over max(a_i, b_i) }$$\n",
    "\n",
    "$$ a_i\\ :\\ 같은\\ 클러스터\\ 내의\\ 모든\\ 점들\\ 간\\ 평균거리 $$\n",
    "$$ b_i\\ :\\ \\bar d\\ =\\ (i,c)의\\ 최솟값 $$\n",
    "$$ \\bar d\\ =\\ (i,c)\\ :\\ 다른\\ 클러스터\\ c와\\ i번째 데이터 와의\\ 평균거리$$\n",
    "<br>\n",
    "\n",
    "직관적으로 수식을 이해해보겠습니다. a<sub>i</sub>는 같은 클러스터 내의 데이터 들이 잘 모여있다면 적은 값을 나타내고, b<sub>i</sub>는 각 클러스터들이 멀리 떨어져있다면 큰 값을 나타내게 됩니다.<br>\n",
    "따라서 수식 S<sub>i</sub>에 따르면, 아주 잘 형성된(같은 클러스터는 가깝고 다른 클러스터끼리는 먼) 클러스터 형태일 때 분모는 b<sub>i</sub>이 되고,<br> 분자는 b<sub>i</sub>에서 아주 작은 값인 a<sub>i</sub>가 빠져 1에 가까운 실루엣 값을 얻을 수 있습니다.\n"
   ]
  },
  {
   "cell_type": "code",
   "execution_count": null,
   "metadata": {
    "collapsed": true
   },
   "outputs": [],
   "source": [
    "from os.path import join\n",
    "from sklearn.decomposition import PCA\n",
    "from sklearn.cluster import AgglomerativeClustering\n",
    "from sklearn.cluster import KMeans\n",
    "from sklearn.metrics import silhouette_samples, silhouette_score\n",
    "import matplotlib.pyplot as plt\n",
    "import matplotlib.cm as cm\n",
    "import numpy as np\n",
    "import pandas as pd\n",
    "import random\n",
    "import time\n",
    "\n",
    "datapath = join('data','wine.txt')\n",
    "labelpath = join('data','wine_attributes.txt')\n",
    "\n",
    "columns = list()\n",
    "with open(labelpath, 'r') as f:\n",
    "    columns = f.read().split('\\n')"
   ]
  },
  {
   "cell_type": "markdown",
   "metadata": {},
   "source": [
    "## 1. 데이터 살펴보기\n",
    "이번 챕터에서는 우리가 사용할 데이터는 178개의 행과 14개의 열로 이루어진 와인 데이터를 사용해보려고 합니다.\n",
    "<br>데이터를 살펴보기 쉽게 pandas DataFrame으로 읽습니다."
   ]
  },
  {
   "cell_type": "code",
   "execution_count": null,
   "metadata": {
    "collapsed": true
   },
   "outputs": [],
   "source": [
    "data = pd.read_csv(datapath, names = columns)\n",
    "del data['Class']"
   ]
  },
  {
   "cell_type": "markdown",
   "metadata": {},
   "source": [
    "DataFrame.head() 함수로 처음 5개의 데이터를 살펴볼 수 있습니다."
   ]
  },
  {
   "cell_type": "code",
   "execution_count": null,
   "metadata": {
    "scrolled": true
   },
   "outputs": [],
   "source": [
    "data.head()"
   ]
  },
  {
   "cell_type": "markdown",
   "metadata": {},
   "source": [
    "와인 데이터는 3개의 클래스로 이루어진 데이터이므로 3개의 클러스터를 형성해 보도록 하겠습니다.\n",
    "<br>마지막에 이번 예제에서 형성한 클러스터가 잘 형성되었는지를 확인하기 위해 실제 클래스를 변수로 저장해둡니다."
   ]
  },
  {
   "cell_type": "markdown",
   "metadata": {},
   "source": [
    " ## 2. 간단한 전처리 및 준비"
   ]
  },
  {
   "cell_type": "markdown",
   "metadata": {},
   "source": [
    "### 차원 축소 \n",
    "wine 데이터는 13개의 컬럼을 가지고 있고, 하나의 데이터(행)는 13개의 차원으로 이루어진 벡터라고 볼 수 있습니다. <br>\n",
    "13차원은 우리 눈으로 볼 수 있도록 표현하기 어려우므로 아직 배우진 않았지만, PCA를 사용해 2차원으로 줄여 시각화할 수 있도록 합니다."
   ]
  },
  {
   "cell_type": "code",
   "execution_count": null,
   "metadata": {
    "collapsed": true
   },
   "outputs": [],
   "source": [
    "for dim in data.columns:\n",
    "        data[dim] -= np.min(data[dim])\n",
    "        data[dim] /= np.max(data[dim])\n",
    "        \n",
    "pca = PCA(n_components=2)\n",
    "pca.fit(data)\n",
    "data = pca.transform(data)"
   ]
  },
  {
   "cell_type": "code",
   "execution_count": null,
   "metadata": {
    "scrolled": true
   },
   "outputs": [],
   "source": [
    "N = len(data)\n",
    "print('데이터의 개수는 {}개 입니다.'.format(N))"
   ]
  },
  {
   "cell_type": "code",
   "execution_count": null,
   "metadata": {
    "collapsed": true
   },
   "outputs": [],
   "source": [
    "def get_centroid(data, label, n_clusters):\n",
    "    centroid = list()\n",
    "    for i in range(n_clusters):\n",
    "        x = data[label == i][:,0]\n",
    "        y = data[label == i][:,1]\n",
    "        x = np.mean(x)\n",
    "        y = np.mean(y)\n",
    "        centroid.append([x,y])\n",
    "    return np.array(centroid)\n",
    "\n",
    "def silhouette(X, model, name, **kw):\n",
    "    max_silhouette_score = -1\n",
    "    max_cluster = 0\n",
    "    for n_clusters in range(2,10):\n",
    "    # 1행에 2개의 그림을 그릴 수 있도록 설정합니다.\n",
    "        fig, (ax1, ax2) = plt.subplots(1, 2)\n",
    "        fig.set_size_inches(10, 5)\n",
    "\n",
    "        # 처음 나오는 그림은 실루엣 plot 입니다.\n",
    "        # 실루엣 계수는 -1 ~ 1범위로 나타낼 수 있지만, 이번 예제에서는 범위를 -0.1 ~ 1로 지정합니다.\n",
    "        ax1.set_xlim([-0.1, 1])\n",
    "        # 클러스터 개수 별 사이의 간격\n",
    "        ax1.set_ylim([0, len(data) + (n_clusters + 1) * 10])\n",
    "\n",
    "        # 클러스터링 실행\n",
    "        clusterer = model(n_clusters = n_clusters, **kw).fit(data)\n",
    "        cluster_labels = clusterer.labels_\n",
    "        # 실루엣 점수는 각 샘플 당 평균 점수로 주어집니다.\n",
    "        silhouette_avg = silhouette_score(data, cluster_labels)\n",
    "        print(\"클러스터의 수 = {}, 평균 실루엣 score : {:.3f}\".format(n_clusters,silhouette_avg))\n",
    "        if max_silhouette_score < silhouette_avg :\n",
    "            max_silhouette_score = silhouette_avg\n",
    "            max_cluster = n_clusters\n",
    "        # 모든 샘플에 대해 실루엣 점수 계산\n",
    "        sample_silhouette_values = silhouette_samples(data, cluster_labels)\n",
    "\n",
    "        y_lower = 10\n",
    "        for i in range(n_clusters):\n",
    "            # 클러스터 i 에 속한 샘플들의 실루엣 점수를 모아 점수에 따라 정렬합니다.\n",
    "            ith_cluster_silhouette_values = \\\n",
    "                sample_silhouette_values[cluster_labels == i]\n",
    "\n",
    "            ith_cluster_silhouette_values.sort()\n",
    "\n",
    "            size_cluster_i = ith_cluster_silhouette_values.shape[0]\n",
    "            y_upper = y_lower + size_cluster_i\n",
    "\n",
    "            color = cm.nipy_spectral(float(i) / n_clusters)\n",
    "            ax1.fill_betweenx(np.arange(y_lower, y_upper),\n",
    "                              0, ith_cluster_silhouette_values,\n",
    "                              facecolor=color, edgecolor=color, alpha=0.7)\n",
    "\n",
    "            # 실루엣 plot에 클러스터 라벨을 달아줍니다.\n",
    "            ax1.text(-0.05, y_lower + 0.5 * size_cluster_i, str(i))\n",
    "\n",
    "            # 다음 클러스터의 실루엣 plot을 그리기 위해 간격을 추가합니다.\n",
    "            y_lower = y_upper + 10 \n",
    "        ax1.set_title(\"The silhouette plot for the various clusters.\")\n",
    "        ax1.set_xlabel(\"The silhouette coefficient values\")\n",
    "        ax1.set_ylabel(\"Cluster label\")\n",
    "\n",
    "        # 평균 실루엣 score를 표시할 빨간 세로 점선을 그려줍니다.\n",
    "        ax1.axvline(x=silhouette_avg, color=\"red\", linestyle=\"--\")\n",
    "\n",
    "        ax1.set_yticks([])  # y축에 표시되는 값들을 제거해줍니다.\n",
    "        ax1.set_xticks([-0.1, 0, 0.2, 0.4, 0.6, 0.8, 1])\n",
    "\n",
    "        # 두 번째 그림은 실제로 클러스터링 된 데이터를 보여줍니다\n",
    "        colors = cm.nipy_spectral(cluster_labels.astype(float) / n_clusters)\n",
    "        ax2.scatter(data[:, 0], data[:, 1], marker='.', s=30, lw=0, alpha=0.7,\n",
    "                    c=colors, edgecolor='k')\n",
    "\n",
    "        # 클러스터에 라벨을 달아주기 위해 중심점을 얻어냅니다. \n",
    "        centers = get_centroid(data, cluster_labels, n_clusters)\n",
    "        # 각 클러스터 중심점에 클러스터 라벨을 달아줍니다.\n",
    "        ax2.scatter(centers[:, 0], centers[:, 1], marker='o',\n",
    "                    c=\"white\", alpha=1, s=200, edgecolor='k')\n",
    "\n",
    "        for i, c in enumerate(centers):\n",
    "            ax2.scatter(c[0], c[1], marker='$%d$' % i, alpha=1,\n",
    "                        s=50, edgecolor='k')\n",
    "\n",
    "        ax2.set_title(\"The visualization of the clustered data.\")\n",
    "        ax2.set_xlabel(\"Feature space for the 1st feature\")\n",
    "        ax2.set_ylabel(\"Feature space for the 2nd feature\")\n",
    "\n",
    "        plt.suptitle((\"Silhouette analysis for {} clustering on sample data \".format(name),\n",
    "                      \"with n_clusters = %d\" % n_clusters),\n",
    "                     fontsize=14, fontweight='bold')\n",
    "    print(\"가장 높은 실루엣 score를 가진 클러스터 수 : {}, 실루엣 score : {:.3f}\".format(max_cluster, max_silhouette_score))\n",
    "    plt.show()\n"
   ]
  },
  {
   "cell_type": "markdown",
   "metadata": {},
   "source": [
    "## 4. 실루엣으로 클러스터링 알고리즘 평가해보기\n",
    "### 1) k-means Clustering\n"
   ]
  },
  {
   "cell_type": "code",
   "execution_count": null,
   "metadata": {
    "scrolled": false
   },
   "outputs": [],
   "source": [
    "silhouette(data, KMeans, 'k-Means', init='random')"
   ]
  },
  {
   "cell_type": "markdown",
   "metadata": {},
   "source": [
    "### 2) Hierarchical Clustering\n",
    "#### (1) Single Linkage - 두 클러스터 내의 가장 가까운 점 사이의 거리"
   ]
  },
  {
   "cell_type": "code",
   "execution_count": null,
   "metadata": {
    "scrolled": false
   },
   "outputs": [],
   "source": [
    "silhouette(data, AgglomerativeClustering, 'HC_Single', linkage='single')"
   ]
  },
  {
   "cell_type": "markdown",
   "metadata": {},
   "source": [
    "### 2. Complete Linkage - 두 클러스터 내의 가장 먼 점 사이의 거리"
   ]
  },
  {
   "cell_type": "code",
   "execution_count": null,
   "metadata": {
    "scrolled": false
   },
   "outputs": [],
   "source": [
    "silhouette(data, AgglomerativeClustering, 'HC_Complete', linkage='complete')"
   ]
  },
  {
   "cell_type": "markdown",
   "metadata": {},
   "source": [
    "### 3.  Average Linkage - 두 클러스터 내의 모든 점 사이의 평균 거리"
   ]
  },
  {
   "cell_type": "code",
   "execution_count": null,
   "metadata": {
    "scrolled": false
   },
   "outputs": [],
   "source": [
    "silhouette(data, AgglomerativeClustering, 'HC_Average', linkage='average')"
   ]
  },
  {
   "cell_type": "markdown",
   "metadata": {},
   "source": [
    "### Reference\n",
    "\n",
    "- Sklearn PCA - https://scikit-learn.org/stable/modules/generated/sklearn.decomposition.PCA.html\n",
    "- Sklearn Silhouette Score Example - https://scikit-learn.org/stable/auto_examples/cluster/plot_kmeans_silhouette_analysis.html#sphx-glr-auto-examples-cluster-plot-kmeans-silhouette-analysis-py\n",
    "- Silhouette Score - http://astralworld58.tistory.com/59\n"
   ]
  }
 ],
 "metadata": {
  "kernelspec": {
   "display_name": "Python 3",
   "language": "python",
   "name": "python3"
  },
  "language_info": {
   "codemirror_mode": {
    "name": "ipython",
    "version": 3
   },
   "file_extension": ".py",
   "mimetype": "text/x-python",
   "name": "python",
   "nbconvert_exporter": "python",
   "pygments_lexer": "ipython3",
   "version": "3.5.5"
  }
 },
 "nbformat": 4,
 "nbformat_minor": 2
}
