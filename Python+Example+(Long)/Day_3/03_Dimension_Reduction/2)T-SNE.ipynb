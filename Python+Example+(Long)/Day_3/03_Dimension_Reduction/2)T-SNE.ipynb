{
 "cells": [
  {
   "cell_type": "markdown",
   "metadata": {},
   "source": [
    "Lab03\n",
    "======="
   ]
  },
  {
   "cell_type": "markdown",
   "metadata": {},
   "source": [
    "### Context\n",
    "#### Dimension Reduction\n",
    "+ T-SNE"
   ]
  },
  {
   "cell_type": "markdown",
   "metadata": {},
   "source": [
    "## T-SNE(t-distributed stochastic neighbor embedding)\n",
    "PCA는 주성분에 사영을 시켜 차원을 축소하는 선형 축소 방식을 사용하기 때문에 군집화 되어 있는 데이터들이 저차원에서 제대로 표현되지 않을 수 있습니다.<br>\n",
    "이러한 문제를 해결하기 위한 방법으로 비선형 축소 기법인 t-SNE가 있습니다.<br>\n",
    "t-SNE의 기본적인 개념은 고차원에서 가까운 데이터는 저차원에서도 가까워야 하고, 고차원에서 먼 데이터는 저차원에서도 멀어야한다 입니다.<br>\n",
    "t-SNE 방법은 이름에서도 알 수 있듯이 t분포를 기반으로 확률을 계산하여 차원 축소를 하므로 매번 값이 바뀌는 특성이 있습니다. 이러한 특성 때문에 시각화에는 이롭지만,<br>\n",
    "모델의 학습 데이터로 사용하기에는 어려움이 있습니다.\n",
    "\n",
    "#### 이번 실습에서는 PCA와 t-SNE의 차이를 간단하게 확인해보겠습니다."
   ]
  },
  {
   "cell_type": "code",
   "execution_count": null,
   "metadata": {
    "collapsed": true
   },
   "outputs": [],
   "source": [
    "from os.path import join\n",
    "import matplotlib\n",
    "import numpy as np\n",
    "import pylab as plt\n",
    "import matplotlib.cm as cm\n",
    "import matplotlib.image as mpimg\n",
    "from sklearn.decomposition import PCA\n",
    "from sklearn.manifold import TSNE"
   ]
  },
  {
   "cell_type": "markdown",
   "metadata": {},
   "source": [
    "## 1. 데이터 살펴보기\n",
    "사용할 데이터는 이번에도 PCA와의 차이점을 확인해보기위해 MNIST 손글씨 데이터를 사용하겠습니다.<br>\n",
    "실습의 편의를 위해 데이터는 28*28 행렬로 변환되어 저장된 상태입니다.<br>\n",
    "data 디렉토리에 준비된 데이터와 라벨을 가져옵니다."
   ]
  },
  {
   "cell_type": "code",
   "execution_count": null,
   "metadata": {
    "collapsed": true
   },
   "outputs": [],
   "source": [
    "X = np.load(join('data','MNIST.npy'))[:2500]\n",
    "labels = np.load(join('data','Label.npy'))[:2500]"
   ]
  },
  {
   "cell_type": "code",
   "execution_count": null,
   "metadata": {
    "collapsed": false
   },
   "outputs": [],
   "source": [
    "img=plt.imshow(X[1].reshape((28,28)))"
   ]
  },
  {
   "cell_type": "markdown",
   "metadata": {},
   "source": [
    "## 2. 간단한 전처리\n",
    "MNIST 데이터는 28*28에 픽셀마다 0~255 범위의 값을 가진 행렬입니다. \n",
    "각 픽셀에 대해 0~1 사이의 값을 갖도록 255로 나누어줍니다.\n",
    "그리고 네트워크에 데이터를 입력하기 편하게 하도록 2차원 이미지를 벡터형태로 펼치겠습니다.\n",
    "numpy.reshape() 함수를 통해 행렬의 차원을 변경할 수 있습니다. "
   ]
  },
  {
   "cell_type": "code",
   "execution_count": null,
   "metadata": {
    "collapsed": true
   },
   "outputs": [],
   "source": [
    "X = X/255\n",
    "X = X.reshape(len(X),784)"
   ]
  },
  {
   "cell_type": "markdown",
   "metadata": {},
   "source": [
    "값의 범위가 0과 1사이로 잘 되었는지 확인해봅시다.\n",
    "numpy.max(), numpy.min() 으로 확인해 볼 수 있습니다."
   ]
  },
  {
   "cell_type": "code",
   "execution_count": null,
   "metadata": {
    "collapsed": false,
    "scrolled": true
   },
   "outputs": [],
   "source": [
    "print('최대 : {}, 최소 : {}'.format(np.max(X), np.min(X)))"
   ]
  },
  {
   "cell_type": "markdown",
   "metadata": {},
   "source": [
    "## 3. Sklearn으로 t-SNE 해보기\n",
    "Sklearn을 이용해 PCA와 t-SNE의 결과를 비교하며 살펴보도록 하겠습니다.<br>\n",
    "### 3.1 PCA"
   ]
  },
  {
   "cell_type": "code",
   "execution_count": null,
   "metadata": {
    "collapsed": true
   },
   "outputs": [],
   "source": [
    "# PCA 모델에 축소하고자 하는 차원을 n_compoenets 값에 넣어 생성합니다.\n",
    "pca = PCA(n_components=2)\n",
    "# X데이터에 대해 주성분을 찾아 Projection 합니다.\n",
    "pca_X = pca.fit_transform(X)"
   ]
  },
  {
   "cell_type": "code",
   "execution_count": null,
   "metadata": {
    "collapsed": true
   },
   "outputs": [],
   "source": [
    "def plotting(Y, labels):\n",
    "    legend_ = []; colors = cm.rainbow(np.linspace(0, 1, 10))\n",
    "    for i in sorted(list(set(labels))):\n",
    "        idxs = (labels==i).nonzero()\n",
    "        l = plt.scatter(np.squeeze(Y[idxs,0]), Y[idxs,1], 20, color=colors[int(i)])\n",
    "        legend_.append(l)\n",
    "    plt.legend(legend_, list(range(10)), loc='center left', ncol=1, fontsize=8, bbox_to_anchor=(1, 0.5))\n",
    "    return"
   ]
  },
  {
   "cell_type": "markdown",
   "metadata": {},
   "source": [
    "### 3.2 t-SNE"
   ]
  },
  {
   "cell_type": "code",
   "execution_count": null,
   "metadata": {
    "collapsed": true
   },
   "outputs": [],
   "source": [
    "# PCA 모델에 축소하고자 하는 차원을 n_compoenets 값에 넣어 생성합니다.\n",
    "tsne = TSNE(n_components = 2)\n",
    "# X 데이터의 차원을 축소합니다.\n",
    "tsne_X = tsne.fit_transform(X)"
   ]
  },
  {
   "cell_type": "markdown",
   "metadata": {},
   "source": [
    "## 4. 차원축소 결과를 비교해보기\n",
    "PCA의 결과에서는 선형 축소 방법의 단점인 군집이 뭉게질 수 있다는 단점을 볼 수 있고,<br>\n",
    "t-SNE의 결과에서는 흩어진 것 같아 보이지만, 어느정도 잘 뭉쳐있는 것을 볼 수 있습니다."
   ]
  },
  {
   "cell_type": "code",
   "execution_count": null,
   "metadata": {
    "collapsed": false
   },
   "outputs": [],
   "source": [
    "plotting(pca_X, labels)"
   ]
  },
  {
   "cell_type": "code",
   "execution_count": null,
   "metadata": {
    "collapsed": false
   },
   "outputs": [],
   "source": [
    "plotting(tsne_X, labels)"
   ]
  },
  {
   "cell_type": "markdown",
   "metadata": {},
   "source": [
    "## 5. t-SNE가 진짜 매번 값이  바뀌는지 알아보기\n",
    "매 실행마다 군집에 대한 특성은 유지되지만, 형태가 변하는 것을 확인할 수 있었습니다."
   ]
  },
  {
   "cell_type": "code",
   "execution_count": null,
   "metadata": {
    "collapsed": false
   },
   "outputs": [],
   "source": [
    "tsne = TSNE(n_components = 2)\n",
    "tsne_X = tsne.fit_transform(X)\n",
    "plotting(tsne_X, labels)"
   ]
  },
  {
   "cell_type": "markdown",
   "metadata": {},
   "source": [
    "### Reference\n",
    "- T-SNE - http://bcho.tistory.com/1210, https://en.wikipedia.org/wiki/T-distributed_stochastic_neighbor_embedding"
   ]
  }
 ],
 "metadata": {
  "kernelspec": {
   "display_name": "sstest",
   "language": "python",
   "name": "sstest"
  },
  "language_info": {
   "codemirror_mode": {
    "name": "ipython",
    "version": 3
   },
   "file_extension": ".py",
   "mimetype": "text/x-python",
   "name": "python",
   "nbconvert_exporter": "python",
   "pygments_lexer": "ipython3",
   "version": "3.5.6"
  }
 },
 "nbformat": 4,
 "nbformat_minor": 2
}
