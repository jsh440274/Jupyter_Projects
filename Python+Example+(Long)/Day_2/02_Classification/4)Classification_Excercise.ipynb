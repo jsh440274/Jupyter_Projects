{
 "cells": [
  {
   "cell_type": "markdown",
   "metadata": {},
   "source": [
    "Lab02-2\n",
    "=======\n",
    "    \n",
    "    \n",
    "# 분류 연습문제\n",
    "이번 실습 수업에서 배운 분류의 연습문제로 Wine data, 와인 데이터를 분류 해보겠습니다.\n",
    "오늘 배운 실습 예제 코드를 기반으로 분류를 수행해보시면 됩니다.\n",
    "k-NN, Decision Tree, Logistic Regression 중 하나를 골라 수행하고 이를 평가해보시면 됩니다."
   ]
  },
  {
   "cell_type": "code",
   "execution_count": null,
   "metadata": {},
   "outputs": [],
   "source": [
    "import numpy as np\n",
    "import pandas as pd\n",
    "import matplotlib.pyplot as plt\n",
    "import scipy as stats\n",
    "from sklearn import neighbors, datasets\n",
    "from os.path import join\n",
    "from matplotlib.colors import ListedColormap\n",
    "from sklearn.linear_model import LogisticRegression\n",
    "from sklearn.model_selection import train_test_split\n",
    "from scipy import optimize as op\n",
    "from sklearn.metrics import confusion_matrix\n",
    "from sklearn.metrics import accuracy_score\n",
    "from sklearn.utils import shuffle\n",
    "from sklearn.preprocessing import label_binarize\n",
    "from sklearn.multiclass import OneVsRestClassifier\n",
    "from sklearn.metrics import roc_curve, auc\n",
    "from scipy import interp\n",
    "from sklearn.tree import DecisionTreeClassifier\n",
    "from sklearn.tree import export_graphviz"
   ]
  },
  {
   "cell_type": "markdown",
   "metadata": {},
   "source": [
    "# 1. 데이터 살펴보기\n",
    "\n",
    "이번에 실습에 사용될 데이터는 1일차 클러스터링에 사용된 와인 데이터를 사용합니다.\n",
    "\n",
    "변수로는 알콜 도수, 신맛 성분, 무기물 비율, 무기물의 염기성 정도, 마그네슘 함량, 페놀 량, 플라보노이드에 속하는 페놀 성분 등이 있고\n",
    "\n",
    "분류해야할 결과 값으로는 와인의 등급으로 1,2,3으로 되어있습니다."
   ]
  },
  {
   "cell_type": "code",
   "execution_count": null,
   "metadata": {},
   "outputs": [],
   "source": [
    "columns = list()\n",
    "with open(join('data', 'wine_attributes.txt'), 'r') as f:\n",
    "    columns = f.read().split('\\n')\n",
    "\n",
    "wine_analysis = pd.read_csv(join('data', 'wine.txt'), names = columns)\n",
    "\n",
    "wine_analysis.head()"
   ]
  },
  {
   "cell_type": "code",
   "execution_count": null,
   "metadata": {},
   "outputs": [],
   "source": [
    "wine_first = wine_analysis.loc[wine_analysis['Class'] == 1]\n",
    "wine_second = wine_analysis.loc[wine_analysis['Class'] == 2]\n",
    "wine_third = wine_analysis.loc[wine_analysis['Class'] == 3]"
   ]
  },
  {
   "cell_type": "markdown",
   "metadata": {},
   "source": [
    "## Box plot으로 분포 확인해보기\n",
    "자신이 확인해보고 싶은 데이터의 분포를 Box plot으로 확인해보는 실습입니다. attribute_name에 원하는 데이터 종류를 넣어 확인해 볼 수 있습니다.\n",
    "\n",
    "(힌트: attribute_name = '칼럼 이름')"
   ]
  },
  {
   "cell_type": "code",
   "execution_count": null,
   "metadata": {},
   "outputs": [],
   "source": [
    "attribute_name = ''\n",
    "plt.boxplot([wine_first[attribute_name], wine_second[attribute_name], wine_third[attribute_name]],\n",
    "           labels = ['first', 'second', 'third'],\n",
    "           meanline = True,\n",
    "           showmeans = True)\n",
    "\n",
    "plt.show()"
   ]
  },
  {
   "cell_type": "markdown",
   "metadata": {},
   "source": [
    "# 2. 간단한 전처리하기\n",
    "X에는 우리가 분류에 사용할 데이터들을 y에는 분류한 결과인 와인 등급을 저장합니다."
   ]
  },
  {
   "cell_type": "code",
   "execution_count": null,
   "metadata": {},
   "outputs": [],
   "source": [
    "wine = pd.read_csv(join('data', 'wine.txt'), names = columns)\n",
    "y = wine['Class']\n",
    "X = wine\n",
    "\n",
    "del X['Class']\n",
    "\n",
    "X.head()"
   ]
  },
  {
   "cell_type": "markdown",
   "metadata": {},
   "source": [
    "위 데이터를 필요에 따라 학습용 데이터와 테스트용 데이터로 분리합니다.\n",
    "\n",
    "(힌트: X_train, X_test, y_train, y_test = train_test_split(X, y, test_size = 테스트용 데이터의 비율(0.0 ~ 1.0), random_state = 원하는 숫자) )"
   ]
  },
  {
   "cell_type": "code",
   "execution_count": null,
   "metadata": {},
   "outputs": [],
   "source": [
    "X_train, X_test, y_train, y_test = train_test_split(X, y, test_size = , random_state = )"
   ]
  },
  {
   "cell_type": "markdown",
   "metadata": {},
   "source": [
    "# 3. sklearn으로 자유롭게 분류 해보기"
   ]
  },
  {
   "cell_type": "code",
   "execution_count": null,
   "metadata": {},
   "outputs": [],
   "source": [
    "#sklearn 모델 정의\n",
    "model = \n",
    "\n",
    "#모델 생성\n",
    "model.fit(X_train, y_train)\n"
   ]
  },
  {
   "cell_type": "markdown",
   "metadata": {},
   "source": [
    "# 4. 분류 결과 출력하기\n",
    "앞의 예제 코드들을 활용하여 분류한 결과를 시각화 하여 출력해보세요."
   ]
  },
  {
   "cell_type": "code",
   "execution_count": null,
   "metadata": {},
   "outputs": [],
   "source": []
  },
  {
   "cell_type": "markdown",
   "metadata": {},
   "source": [
    "# 5. 분류 평가하기\n",
    "\n",
    "앞의 예제 코드들을 활용하여 각 분류 방법에 따라 정확도, Confusion Matrix, ROC Curve등을 그려 평가해보세요."
   ]
  },
  {
   "cell_type": "code",
   "execution_count": null,
   "metadata": {},
   "outputs": [],
   "source": [
    "#정확도\n",
    "print(\"학습 세트 정확도  : {:.3f}%\".format(model.score(X_train, y_train) * 100))\n",
    "print(\"테스트 세트 정확도: {:.3f}%\".format(model.score(X_test, y_test) * 100))"
   ]
  },
  {
   "cell_type": "markdown",
   "metadata": {},
   "source": [
    "만족스러운 분류 결과를 얻으셨나요? 못 얻으셨다면 모델이나 선택하신 Attribute를 바꾸어서 수행해보세요."
   ]
  }
 ],
 "metadata": {
  "kernelspec": {
   "display_name": "sstest",
   "language": "python",
   "name": "sstest"
  },
  "language_info": {
   "codemirror_mode": {
    "name": "ipython",
    "version": 3
   },
   "file_extension": ".py",
   "mimetype": "text/x-python",
   "name": "python",
   "nbconvert_exporter": "python",
   "pygments_lexer": "ipython3",
   "version": "3.5.6"
  }
 },
 "nbformat": 4,
 "nbformat_minor": 2
}
