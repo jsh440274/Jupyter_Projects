{
 "cells": [
  {
   "cell_type": "markdown",
   "metadata": {},
   "source": [
    "Lab02\n",
    "======"
   ]
  },
  {
   "cell_type": "markdown",
   "metadata": {},
   "source": [
    "## 회귀 분석 연습문제\n",
    "이번 실습 수업에 배운 회귀 분석 방법을 사용하여 Boston Housing, 보스턴 주택 가격 데이터를 회귀 분석 해보겠습니다.<br>\n",
    "이전 챕터의 예제 코드를 기반으로 회귀분석을 진행하시면 됩니다.<br>\n",
    "주택 가격을 Target으로 하여 이에 영향을 미치는 독립변수를 찾아 설명력이 높은 회귀식을 추정해 보세요."
   ]
  },
  {
   "cell_type": "code",
   "execution_count": null,
   "metadata": {
    "collapsed": true
   },
   "outputs": [],
   "source": [
    "from os.path import join\n",
    "import numpy as np\n",
    "\n",
    "from sklearn import linear_model\n",
    "from sklearn.tree import DecisionTreeRegressor\n",
    "\n",
    "from sklearn.metrics import r2_score\n",
    "from sklearn.tree import export_graphviz\n",
    "\n",
    "import matplotlib.pyplot as plt\n",
    "\n",
    "import statsmodels.api as sm\n",
    "\n",
    "import pandas as pd\n",
    "from pandas.plotting import scatter_matrix"
   ]
  },
  {
   "cell_type": "markdown",
   "metadata": {},
   "source": [
    "## 1. 데이터 살펴보기"
   ]
  },
  {
   "cell_type": "markdown",
   "metadata": {},
   "source": [
    "이번 실습에 사용할 데이터는보스턴 시의 주택 가격에 대한 데이터입니다.\n",
    "\n",
    "주택의 여러가지 요건들과 주택의 가격 정보가 포함되어 있는 데이터 셋을 분석하여, 주택의 가격에 영향을 미치는 요소를 분석해보세요."
   ]
  },
  {
   "cell_type": "markdown",
   "metadata": {},
   "source": [
    "### Feature Description\n",
    "\n",
    "1. CRIM : 자치시(town) 별 1인당 범죄율\n",
    "2. ZN : 25,000 평방피트를 초과하는 거주지역의 비율\n",
    "3. INDUS : 비소매상업지역 면적 비율\n",
    "\n",
    "5. NOX : 일산화질소 농도\n",
    "6. RM : 주택 1가구당 평균 방의 개수\n",
    "7. AGE : 1940년 이전에 건축된 소유주택의 비율\n",
    "8. DIS : 5개의 보스턴 직업센터까지의 접근성 지수\n",
    "9. RAD : 방사형 도로까지의 접근성 지수\n",
    "10. TAX : 10,000 달러 당 재산세율\n",
    "11. PTRATIO : 자치시(town)별 학생/교사 비율\n",
    "12. B : 1000(Bk-0.63)^2, 여기서 Bk는 자치시별 흑인의 비율 \n",
    "13. LSTAT : 모집단의 하위계층의 비율(%)\n",
    "\n",
    "14. MEDV : 본인 소유의 주택가격(중앙값) (단위: $1,000)\n",
    "\n",
    "15. CAT.MEDV : if MEDV > 30, CAT.MEDV = 1 else, 0"
   ]
  },
  {
   "cell_type": "markdown",
   "metadata": {},
   "source": [
    "데이터를 살펴보기 쉽게 csv 파일을 pandas DataFrame으로 읽습니다."
   ]
  },
  {
   "cell_type": "code",
   "execution_count": null,
   "metadata": {
    "collapsed": true
   },
   "outputs": [],
   "source": [
    "df = pd.read_csv(join('data', 'BostonHousing.csv'))"
   ]
  },
  {
   "cell_type": "markdown",
   "metadata": {},
   "source": [
    "DataFrame.head() 함수로 처음 5개의 데이터를 살펴볼 수 있습니다."
   ]
  },
  {
   "cell_type": "code",
   "execution_count": null,
   "metadata": {
    "collapsed": false,
    "scrolled": true
   },
   "outputs": [],
   "source": [
    "df.head()"
   ]
  },
  {
   "cell_type": "markdown",
   "metadata": {},
   "source": [
    "## 2. 간단한 전처리"
   ]
  },
  {
   "cell_type": "code",
   "execution_count": null,
   "metadata": {
    "collapsed": true
   },
   "outputs": [],
   "source": [
    "for dim in df.columns:\n",
    "        df[dim] -= np.min(df[dim])\n",
    "        df[dim] /= np.max(df[dim])"
   ]
  },
  {
   "cell_type": "code",
   "execution_count": null,
   "metadata": {
    "collapsed": false
   },
   "outputs": [],
   "source": [
    "df.head()"
   ]
  },
  {
   "cell_type": "code",
   "execution_count": null,
   "metadata": {
    "collapsed": false
   },
   "outputs": [],
   "source": [
    "df.shape"
   ]
  },
  {
   "cell_type": "code",
   "execution_count": null,
   "metadata": {
    "collapsed": false,
    "scrolled": true
   },
   "outputs": [],
   "source": [
    "df.columns"
   ]
  },
  {
   "cell_type": "code",
   "execution_count": null,
   "metadata": {
    "collapsed": false,
    "scrolled": true
   },
   "outputs": [],
   "source": [
    "df.describe()"
   ]
  },
  {
   "cell_type": "markdown",
   "metadata": {},
   "source": [
    "### find relationship\n",
    "최적의 모델 파라미터를 추정해보세요."
   ]
  },
  {
   "cell_type": "code",
   "execution_count": null,
   "metadata": {
    "collapsed": false
   },
   "outputs": [],
   "source": [
    "df.corr()"
   ]
  },
  {
   "cell_type": "code",
   "execution_count": null,
   "metadata": {
    "collapsed": true
   },
   "outputs": [],
   "source": [
    "dfx = df.iloc[:,:-2]\n",
    "dfy = df.iloc[:,-2]"
   ]
  },
  {
   "cell_type": "code",
   "execution_count": null,
   "metadata": {
    "collapsed": false,
    "scrolled": false
   },
   "outputs": [],
   "source": [
    "def stepwise_selection(X, y, \n",
    "                       initial_list=[], \n",
    "                       threshold_in= 0.05, \n",
    "                       threshold_out = 0.05, \n",
    "                       verbose=True):\n",
    "    included = list(initial_list)\n",
    "    while True:\n",
    "        changed=False\n",
    "        # forward step\n",
    "        excluded = list(set(X.columns)-set(included))\n",
    "        new_pval = pd.Series(index=excluded)\n",
    "        for new_column in excluded:\n",
    "            model = sm.OLS(y, sm.add_constant(pd.DataFrame(X[included+[new_column]]))).fit()\n",
    "            new_pval[new_column] = model.pvalues[new_column]\n",
    "        best_pval = new_pval.min()\n",
    "        if best_pval < threshold_in:\n",
    "            best_feature = new_pval.argmin()\n",
    "            included.append(best_feature)\n",
    "            changed=True\n",
    "            if verbose:\n",
    "                print('Add  {:30} with p-value {:.6}'.format(best_feature, best_pval))\n",
    "\n",
    "        # backward step\n",
    "        model = sm.OLS(y, sm.add_constant(pd.DataFrame(X[included]))).fit()\n",
    "        # use all coefs except intercept\n",
    "        pvalues = model.pvalues.iloc[1:]\n",
    "        worst_pval = pvalues.max() # null if pvalues is empty\n",
    "        if worst_pval > threshold_out:\n",
    "            changed=True\n",
    "            worst_feature = pvalues.argmax()\n",
    "            included.remove(worst_feature)\n",
    "            if verbose:\n",
    "                print('Drop {:30} with p-value {:.6}'.format(worst_feature, worst_pval))\n",
    "        if not changed:\n",
    "            break\n",
    "    return included\n",
    "\n",
    "result = stepwise_selection(dfx, dfy)\n",
    "\n",
    "print('resulting features:')\n",
    "print(result)\n",
    "\n",
    "newlabel = result"
   ]
  },
  {
   "cell_type": "code",
   "execution_count": null,
   "metadata": {
    "collapsed": false
   },
   "outputs": [],
   "source": [
    "dfx_multi = df[newlabel]\n",
    "dfy_multi = df[['MEDV']]\n",
    "\n",
    "# 선형회귀 추정기 생성\n",
    "lr = linear_model.LinearRegression() \n",
    "\n",
    "# input 대해 선형 회귀(모델 파라미터 추정)\n",
    "lr.fit(dfx_multi.values.tolist(), dfy_multi.values.tolist())\n",
    "\n",
    "# 회귀식으로 데이터의 결과 추정\n",
    "dfy_y_pred_multi = lr.predict(dfx_multi.values.tolist())\n",
    "\n",
    "# R2 scroe\n",
    "R2 = r2_score(dfy_multi.values.tolist(), dfy_y_pred_multi)\n",
    "print('R2 score: %.2f' % R2)\n",
    "\n",
    "# adj R2 score\n",
    "n = len(dfx_multi)\n",
    "p = len(newlabel)\n",
    "\n",
    "Adj_r2 = 1-(1-R2)*(n-1)/(n-p-1)\n",
    "print('Adj R2 score: %.2f' % Adj_r2)"
   ]
  },
  {
   "cell_type": "code",
   "execution_count": null,
   "metadata": {
    "collapsed": false
   },
   "outputs": [],
   "source": [
    "# 모델 파라미터 출력\n",
    "print('Model parameters: \\n')\n",
    "rgstr = ''\n",
    "b = []\n",
    "for i in range(len(lr.coef_[0])):\n",
    "    b.append(lr.coef_[0,i])\n",
    "    print(\"b%d\" %(len(lr.coef_[0])-i),\": \", \"%f\" %lr.coef_[0,i])\n",
    "    rgstr = ' + '+repr(lr.coef_[0,i]) + '*x'+repr(len(lr.coef_[0])-i) + rgstr\n",
    "\n",
    "print('b0:', lr.intercept_[0])\n",
    "print()\n",
    "rgstr = repr(lr.intercept_[0]) + rgstr\n",
    "print('y = ', rgstr)"
   ]
  },
  {
   "cell_type": "code",
   "execution_count": null,
   "metadata": {
    "collapsed": false
   },
   "outputs": [],
   "source": [
    "from sklearn.metrics import mean_squared_error\n",
    "mean_squared_error(dfy_multi.values.tolist(),dfy_y_pred_multi)"
   ]
  },
  {
   "cell_type": "code",
   "execution_count": null,
   "metadata": {
    "collapsed": true
   },
   "outputs": [],
   "source": [
    "# X ,Y 데이터 나누기.\n",
    "label = ['ZN']\n",
    "dfx = df[label]\n",
    "dfy = df[['MEDV']]"
   ]
  },
  {
   "cell_type": "code",
   "execution_count": null,
   "metadata": {
    "collapsed": true
   },
   "outputs": [],
   "source": [
    "lr = linear_model.LinearRegression()\n",
    "lr.fit(dfx, dfy)"
   ]
  },
  {
   "cell_type": "code",
   "execution_count": null,
   "metadata": {
    "collapsed": true
   },
   "outputs": [],
   "source": [
    "y_pred = lr.predict(dfx)"
   ]
  },
  {
   "cell_type": "code",
   "execution_count": null,
   "metadata": {
    "collapsed": true
   },
   "outputs": [],
   "source": [
    "print(lr.coef_)\n",
    "print(lr.intercept_)"
   ]
  },
  {
   "cell_type": "code",
   "execution_count": null,
   "metadata": {
    "collapsed": true
   },
   "outputs": [],
   "source": [
    "print(lr.score(dfx, dfy))"
   ]
  },
  {
   "cell_type": "code",
   "execution_count": null,
   "metadata": {
    "collapsed": true
   },
   "outputs": [],
   "source": [
    "# # 모델 파라미터 출력\n",
    "# print('Model parameters: \\n')\n",
    "\n",
    "# rgstr = ''\n",
    "# for i in range(len(lr.coef_[0])):\n",
    "#     print(\"b%d\" %(len(lr.coef_[0])-i),\": \", \"%f\" %lr.coef_[0,i])\n",
    "#     rgstr = ' + '+repr(lr.coef_[0,i]) + '*x'+repr(len(lr.coef_[0])-i) + rgstr\n",
    "\n",
    "# print('b0:', lr.intercept_[0])\n",
    "# print()\n",
    "# rgstr = repr(lr.intercept_[0]) + rgstr\n",
    "# print('y = ', rgstr)"
   ]
  },
  {
   "cell_type": "markdown",
   "metadata": {},
   "source": [
    "### evaluation\n",
    "R2를 이용하여 테스트 결과를 평가합니다."
   ]
  },
  {
   "cell_type": "code",
   "execution_count": null,
   "metadata": {
    "collapsed": true
   },
   "outputs": [],
   "source": []
  }
 ],
 "metadata": {
  "kernelspec": {
   "display_name": "sstest",
   "language": "python",
   "name": "sstest"
  },
  "language_info": {
   "codemirror_mode": {
    "name": "ipython",
    "version": 3
   },
   "file_extension": ".py",
   "mimetype": "text/x-python",
   "name": "python",
   "nbconvert_exporter": "python",
   "pygments_lexer": "ipython3",
   "version": "3.5.6"
  }
 },
 "nbformat": 4,
 "nbformat_minor": 2
}
