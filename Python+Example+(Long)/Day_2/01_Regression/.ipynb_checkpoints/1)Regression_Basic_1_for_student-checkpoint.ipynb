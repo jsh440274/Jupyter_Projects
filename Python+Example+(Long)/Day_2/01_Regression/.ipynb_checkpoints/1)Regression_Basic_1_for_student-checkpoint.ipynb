{
 "cells": [
  {
   "cell_type": "markdown",
   "metadata": {},
   "source": [
    "Lab02-1\n",
    "======\n"
   ]
  },
  {
   "cell_type": "markdown",
   "metadata": {},
   "source": [
    "###  Context\n",
    "#### Regression(Linear Regression)\n",
    "   + Univariate regression(단변량 회귀분석)\n",
    "   + Multivariate regression(다변량 회귀분석)"
   ]
  },
  {
   "cell_type": "markdown",
   "metadata": {},
   "source": [
    "# Regression ( 회귀 분석 )\n",
    "+ 어떤 연속적인 값을 갖는 Target변수가 그 외 다른 변수(features)에 의해 설명된다고 보고, 그 함수 관계를 조사하는 기법입니다.\n",
    "\n",
    "\n",
    "\\- Target변수 <영향을 받는 변수(Y)> : \n",
    "<br>반응변수(response variable), __종속변수(dependent variable)__, 결과변수(outcome variable)\n",
    "\n",
    "\n",
    "\\- 그외 다른 변수 <영향을 주는 변수(X)> : \n",
    "<br>설명변수(explanatory variable), __독립변수(independent variable)__, 예측 변수(predictor variable) \n"
   ]
  },
  {
   "cell_type": "markdown",
   "metadata": {},
   "source": [
    "## Linear regression\n",
    "+ 회귀 모델이 회귀 계수들의 선형 결합(Linear Relationship)만으로 이루어진 함수임을 말합니다."
   ]
  },
  {
   "cell_type": "markdown",
   "metadata": {},
   "source": [
    "### - Linear Relationship\n",
    "+ ### Hyphothesis(가설공간)\n",
    "\n",
    "     $Y = B_0 + B_1X_1 + B_2X_2+ \\cdot\\cdot\\cdot B_dX_d$\n",
    "    ($Y$: Target,  $X_i$ : features,  $d$ : # of features, $B_i$ : model parameters)\n",
    "\n",
    "\n",
    "+ 회귀 분석을 통해 추정되는 계수의 크기 및 방향성(+,-)를 통해 독립 변수가 종속 변수에 미치는 영향을 알 수 있게 됩니다.\n",
    "    \n",
    "### - How to find relationship?\n",
    "\n",
    "+ ### Least squares method(최소제곱법)<br>\n",
    "\n",
    "    + 변수 X와 Y의 관계를 가장 잘 나타낸다는 것은 곧 데이터가 나타내는 점들에 가장 가까이 있는 직선을 찾는다는 것입니다. 따라서 이는 곧 모든 점들과의 거리의 합이 최소가 되는 직선을 찾는 것이라고 할 수 있습니다.\n",
    "    \n",
    "    $Y: 실제 값 \\ \\ \\hat{Y}: 추정 값(Target)$\n",
    "    <br>$Y = \\hat{Y} + e$\n",
    "    <br>$e = Y - \\hat{Y} : 잔차$(각 데이터와 직선 사이의 거리)\n",
    "    \n",
    "    $\\sum_{i=1}^n \\ {e_i^2}: \\ Residual \\ Sum \\  of \\ Squares (RSS)$ \n",
    "    ### minRSS = min$\\sum_{i=1}^n {e_i^2}$"
   ]
  },
  {
   "cell_type": "code",
   "execution_count": null,
   "metadata": {},
   "outputs": [],
   "source": [
    "from os.path import join\n",
    "import numpy as np\n",
    "\n",
    "from sklearn import linear_model\n",
    "from sklearn.metrics import r2_score\n",
    "\n",
    "import matplotlib.pyplot as plt\n",
    "from mpl_toolkits.mplot3d import Axes3D\n",
    "import pandas as pd\n",
    "from pandas.plotting import scatter_matrix"
   ]
  },
  {
   "cell_type": "markdown",
   "metadata": {},
   "source": [
    "## 1. 데이터 살펴보기\n",
    "\n",
    "+ 이번 실습에서는 당뇨병 환자 데이터1)와 자동차 데이터2)를 사용합니다."
   ]
  },
  {
   "cell_type": "markdown",
   "metadata": {},
   "source": [
    "## 1) 예제 : 'diabetesDataset.csv'"
   ]
  },
  {
   "cell_type": "markdown",
   "metadata": {},
   "source": [
    "데이터를 살펴보기 쉽게 csv 파일을 pandas DataFrame으로 읽습니다."
   ]
  },
  {
   "cell_type": "code",
   "execution_count": null,
   "metadata": {},
   "outputs": [],
   "source": [
    "df = pd.read_csv(join('data','diabetesDataset.csv'))\n",
    "print(df.shape)"
   ]
  },
  {
   "cell_type": "markdown",
   "metadata": {},
   "source": [
    "DataFrame.head() 함수로 처음 5개의 데이터를 살펴볼 수 있습니다."
   ]
  },
  {
   "cell_type": "code",
   "execution_count": null,
   "metadata": {
    "scrolled": true
   },
   "outputs": [],
   "source": [
    "df.head()"
   ]
  },
  {
   "cell_type": "code",
   "execution_count": null,
   "metadata": {},
   "outputs": [],
   "source": [
    "for dim in df.columns:\n",
    "        df[dim] -= np.min(df[dim])\n",
    "        df[dim] /= np.max(df[dim])"
   ]
  },
  {
   "cell_type": "markdown",
   "metadata": {},
   "source": [
    "describe() 메서드는 숫자형 특성의 요약 정보를 줍니다.\n",
    "<br>count(sample 수), mean(평균), min, max, 사분위수(1(25%),2(50%),3(75%))\n",
    "\n",
    "<br>%(백분위수 : 전체 관측값에서 주어진 백분율이 속하는 하위 부분의 값)\n",
    "<br>ex  (__bmi__): 0-25% 구역은  -3.422907e-02보다 작거나 같음, 0-50%는 -7.283770e-03보다 작거나 같음, 75%는 3.564384e-02보다 작거나 같음."
   ]
  },
  {
   "cell_type": "code",
   "execution_count": null,
   "metadata": {
    "scrolled": true
   },
   "outputs": [],
   "source": [
    "df.describe()"
   ]
  },
  {
   "cell_type": "markdown",
   "metadata": {},
   "source": [
    "hist() 메서드는 히스토그램을 줍니다. 히스토그램은 주어진 값의 범위(수평축)에 속한 샘플 수(수직축)를 나타냅니다."
   ]
  },
  {
   "cell_type": "code",
   "execution_count": null,
   "metadata": {},
   "outputs": [],
   "source": [
    "df.hist(bins = 20, figsize=(10, 15))\n",
    "plt.show()"
   ]
  },
  {
   "cell_type": "markdown",
   "metadata": {},
   "source": [
    "+ 데이터는 442명의 환자 데이터를 포함하며, 각 환자별로 11개의 특징들을 포함하고 있습니다.\n",
    "\n",
    "\n",
    "+ Attribute Information:\n",
    "     - Age\n",
    "     - Sex\n",
    "     - Bmi : Body mass index\n",
    "     - map : Average blood pressure\n",
    "     - tc, ldl, hdl, tch, ltg, glu : blood serum(혈청) measurements\n",
    "     - y : a quantitative measure of disease progression one year after baseline"
   ]
  },
  {
   "cell_type": "markdown",
   "metadata": {},
   "source": [
    "***"
   ]
  },
  {
   "cell_type": "markdown",
   "metadata": {},
   "source": [
    "## 2) 연습문제 : 'ToyotaDataset.csv'"
   ]
  },
  {
   "cell_type": "code",
   "execution_count": null,
   "metadata": {},
   "outputs": [],
   "source": [
    "# 데이터를 살펴보기 쉽게 csv 파일을 pandas DataFrame으로 읽습니다.\n",
    "# df와는 다른 이름의 변수를 사용합니다. (df2)\n",
    "df2 = pd.read_csv(join('data','ToyotaDataset.csv'))\n",
    "print(df2.shape)"
   ]
  },
  {
   "cell_type": "code",
   "execution_count": null,
   "metadata": {
    "scrolled": true
   },
   "outputs": [],
   "source": [
    "# DataFrame.head() 함수로 처음 5개의 데이터를 살펴볼 수 있습니다.\n",
    "df2.head()"
   ]
  },
  {
   "cell_type": "code",
   "execution_count": null,
   "metadata": {},
   "outputs": [],
   "source": [
    "for dim in df2.columns:\n",
    "        df2[dim] -= np.min(df2[dim])\n",
    "        df2[dim] /= np.max(df2[dim])"
   ]
  },
  {
   "cell_type": "code",
   "execution_count": null,
   "metadata": {},
   "outputs": [],
   "source": [
    "# describe() 메서드는 숫자형 특성의 요약 정보를 줍니다.\n",
    "df2.describe()"
   ]
  },
  {
   "cell_type": "code",
   "execution_count": null,
   "metadata": {},
   "outputs": [],
   "source": [
    "# hist() 메서드는 히스토그램을 줍니다. \n",
    "df2.hist()\n",
    "plt.show()"
   ]
  },
  {
   "cell_type": "markdown",
   "metadata": {},
   "source": [
    "***"
   ]
  },
  {
   "cell_type": "markdown",
   "metadata": {},
   "source": [
    "# \\* 이번 실습에서는 Linear regression을 통해 환자의 1년 후 질병 진행의 정도1)와 자동차의 가격2)을 추정해보도록 하겠습니다.\n",
    "\n",
    "(Target : y)"
   ]
  },
  {
   "cell_type": "markdown",
   "metadata": {},
   "source": [
    "## < Simple linear regression(단순회귀분석) >\n",
    "+ Target 변수에 영향을 미치는 독립변수의 수가 1개일 때를 말합니다."
   ]
  },
  {
   "cell_type": "markdown",
   "metadata": {},
   "source": [
    "<center>$Y = B_0 + B_1X_1$"
   ]
  },
  {
   "cell_type": "markdown",
   "metadata": {},
   "source": [
    "## 2. Scratch로 단변량 회귀식 추정하기"
   ]
  },
  {
   "cell_type": "markdown",
   "metadata": {},
   "source": [
    "### \\- use only one feature(Select bmi)"
   ]
  },
  {
   "cell_type": "markdown",
   "metadata": {},
   "source": [
    "Data를 input 데이터(diabetes_X)와 output 데이터(Target, diabetes_Y)로 나눕니다."
   ]
  },
  {
   "cell_type": "code",
   "execution_count": null,
   "metadata": {},
   "outputs": [],
   "source": [
    "# 컬럼이름으로 다중 컬럼 선택 (return DatFrame)\n",
    "## 하나의 컬럼을 선택할 경우 Series를 반환\n",
    "## 하나의 컬럼을 DataFrame으로 반환하기 위해서는 컬럼 리스트로 입력\n",
    "\n",
    "label = 'bmi'\n",
    "diabetes_X = df[[label]]\n",
    "diabetes_Y = df[['y']]"
   ]
  },
  {
   "cell_type": "code",
   "execution_count": null,
   "metadata": {},
   "outputs": [],
   "source": [
    "print(diabetes_X.shape)\n",
    "diabetes_X.head()"
   ]
  },
  {
   "cell_type": "code",
   "execution_count": null,
   "metadata": {},
   "outputs": [],
   "source": [
    "diabetes_Y.head()"
   ]
  },
  {
   "cell_type": "markdown",
   "metadata": {},
   "source": [
    "### \\- plot the data point"
   ]
  },
  {
   "cell_type": "code",
   "execution_count": null,
   "metadata": {
    "scrolled": true
   },
   "outputs": [],
   "source": [
    "#plot\n",
    "tmpx = diabetes_X.values.tolist()\n",
    "tmpy = diabetes_Y.values.tolist()\n",
    "\n",
    "plt.scatter(tmpx, tmpy, color='blue', label='Data Point(patients)')\n",
    "\n",
    "# x축 label\n",
    "plt.xlabel(label)\n",
    "\n",
    "# y축 label\n",
    "plt.ylabel('y')\n",
    "plt.legend()# 범례\n",
    "plt.show()"
   ]
  },
  {
   "cell_type": "markdown",
   "metadata": {},
   "source": [
    "### \\- find relationship"
   ]
  },
  {
   "cell_type": "markdown",
   "metadata": {},
   "source": [
    "## \\* Least squares method(최소제곱법)"
   ]
  },
  {
   "cell_type": "markdown",
   "metadata": {},
   "source": [
    "### minRSS \n",
    "### = min$\\sum_{i=1}^n \\ {e_i^2}$\n",
    "### = min$\\sum_{i=1}^n ({y_i - \\hat{y_i}})^2$\n",
    "### = min$\\sum_{i=1}^n ({y_i - \\hat{\\beta_0} - \\hat{\\beta_1}x_i})^2$"
   ]
  },
  {
   "cell_type": "markdown",
   "metadata": {},
   "source": [
    "### \\- $ \\hat{\\beta_0}$ \\& $\\hat{\\beta_1}$는 어떻게 찾는가?"
   ]
  },
  {
   "cell_type": "markdown",
   "metadata": {},
   "source": [
    "Convex function 이므로 미분을 통해 최소값을 계산합니다.\n",
    "\n",
    "### \\< Explicit solution \\>\n",
    "### $\\hat{\\beta_1} = \\frac{\\sum_{i=1}^n {(X_i-\\bar{X_i})*(Y_i-\\bar{Y})}}{\\sum_{i=1}^n ({X_i-\\bar{X_i}})^2}$\n",
    "\n",
    "### $\\hat{\\beta_0} = \\bar{Y} - \\hat{\\beta_1}*\\beta_1 \\bar{X}$"
   ]
  },
  {
   "cell_type": "code",
   "execution_count": null,
   "metadata": {},
   "outputs": [],
   "source": [
    "# inputs 과 outputs 변수(X, Y) 초기화\n",
    "X = diabetes_X.values.tolist()\n",
    "Y = diabetes_Y.values.tolist()\n",
    "\n",
    "# inputs의 평균\n",
    "x_mean = np.mean(X)\n",
    "\n",
    "# outputs의 평균\n",
    "y_mean = np.mean(Y)\n",
    "\n",
    "# input의 총 수\n",
    "n = len(X)\n",
    "\n",
    "# 모델 파라미터 b1, b0 계산\n",
    "numerator = 0 #분자\n",
    "denominator = 0 #분모\n",
    "for i in range(n):\n",
    "    numerator += (X[i] - x_mean) * (Y[i] - y_mean)\n",
    "    denominator += (X[i] - x_mean) ** 2 # ** : 제곱\n",
    "    \n",
    "b1 = numerator / denominator\n",
    "b0 = y_mean - (b1 * x_mean)\n",
    "\n",
    "# 모델 파라미터 출력\n",
    "print('b1:',b1)\n",
    "print('bo:',b0)\n",
    "print('y=',b0[0],'+',b1[0],' * x')"
   ]
  },
  {
   "cell_type": "markdown",
   "metadata": {},
   "source": [
    "### \\- result"
   ]
  },
  {
   "cell_type": "code",
   "execution_count": null,
   "metadata": {},
   "outputs": [],
   "source": [
    "# plot\n",
    "\n",
    "x_max = np.max(X)\n",
    "x_min = np.min(X)\n",
    "\n",
    "# 회귀식으로 데이터의 결과 추정위한 독립변수\n",
    "x = np.linspace(x_min, x_max, 1000)\n",
    "\n",
    "# 회귀식으로 데이터의 결과 추정\n",
    "y = b0 + b1 * x\n",
    "\n",
    "# 회귀 결과 plot\n",
    "plt.plot(x, y, color='red', label='Linear Regression')\n",
    "\n",
    "# 데이터 좌표 plot\n",
    "plt.scatter(X, Y, color='black', label='Data Point(patients)')\n",
    "\n",
    "# x축 label\n",
    "plt.xlabel(label)\n",
    "\n",
    "# y축 label\n",
    "plt.ylabel('y')\n",
    "plt.legend()\n",
    "plt.show()"
   ]
  },
  {
   "cell_type": "markdown",
   "metadata": {},
   "source": [
    "### -evaluation"
   ]
  },
  {
   "cell_type": "markdown",
   "metadata": {},
   "source": [
    "### \\- 모델이 주어진 데이터에 얼마나 적합한가?"
   ]
  },
  {
   "cell_type": "markdown",
   "metadata": {},
   "source": [
    "\\* Root Mean Squared Error(RMSE)\n",
    "\n",
    "\n",
    "\n",
    "+ 각 점들과 직선과의 거리 제곱 평균의 제곱근\n",
    "+ ### $RMSE = \\sqrt{\\sum_{i=1}^m \\frac{1}{m}{(\\hat{y_i}-y_i)^2}}$\n",
    "\n",
    "Mean Squared Error(MSE): 추정값$(\\hat{y_i})$과 실제값$(y_i)$의 차이의 제곱의 평균\n",
    "+ 분산( 평균과 실제값의 차이의 제곱의 평균 )과 유사"
   ]
  },
  {
   "cell_type": "code",
   "execution_count": null,
   "metadata": {},
   "outputs": [],
   "source": [
    "# input 총 수\n",
    "n = len(X)\n",
    "\n",
    "rmse = 0\n",
    "for i in range(n):\n",
    "    y_pred=  b0 + b1* X[i]\n",
    "    rmse += (Y[i] - y_pred) ** 2\n",
    "    \n",
    "rmse = np.sqrt(rmse/n)\n",
    "print(rmse)"
   ]
  },
  {
   "cell_type": "markdown",
   "metadata": {},
   "source": [
    "\\* $R^2$ scrore (결정 계수)\n",
    "\n",
    "+ 종속 변수의 총 변화량 중 모델(추정된 회귀식)로 설명 가능한 부분(변화량)의 비율을 의미합니다.\n",
    "\n",
    "![R2](./images/R2.png)\n",
    "\n",
    "\n",
    "SST : total sum of squares (모든 개체가 가지는 총 변화량)\n",
    "\n",
    "SSR : sum of squares residuals (총 변화량 중 회귀식으로 설명 가능한 변화량)\n",
    "\n",
    "SSE : sum of squares error(총 변화량 중 회귀식으로는 설명 불가능한 변화량)\n",
    "\n",
    "(즉, SST = SSR + SSE)\n",
    "\n",
    "+ ### $R^2 = \\frac{SSR}{SST} = \\frac{\\sum(\\hat{y_i}-\\bar{y})^2}{\\sum(y_i-\\bar{y})}$\n",
    "\n",
    "  ###  $= 1 - \\frac{SSE}{SST} = 1 - \\frac{\\sum({y_i}-\\hat{y})^2}{\\sum(y_i-\\bar{y})}$\n"
   ]
  },
  {
   "cell_type": "markdown",
   "metadata": {},
   "source": [
    "$0<R^2<1$ : 1에 가까울수록 높은 설명력을 보인다고 할 수 있습니다.\n",
    "\n",
    "$R^2 = 1$\n",
    "\n",
    ":the regression model fits perfectly\n",
    "\n",
    "$R^2 = 0$\n",
    "\n",
    ":the regression model does not explain anything about the relationship between X and Y"
   ]
  },
  {
   "cell_type": "markdown",
   "metadata": {},
   "source": [
    "![RegrR^2](./images/RegrR^2.png)"
   ]
  },
  {
   "cell_type": "code",
   "execution_count": null,
   "metadata": {},
   "outputs": [],
   "source": [
    "sumofsquares = 0\n",
    "sumofresiduals = 0\n",
    "# input의 총 수\n",
    "n = len(X)\n",
    "\n",
    "for i in range(n) :\n",
    "    y_pred = b0 + b1 * X[i]\n",
    "    sumofsquares += (Y[i] - y_mean) ** 2\n",
    "    sumofresiduals += (Y[i] - y_pred) **2\n",
    "    \n",
    "score  = 1 - (sumofresiduals/sumofsquares)\n",
    "print(score)"
   ]
  },
  {
   "cell_type": "markdown",
   "metadata": {},
   "source": [
    "+ 계산된 $R^2$값이 약 0.372 이므로 모델은 어느 정도 데이터에 적합하지만 다른 중요한 요소가 존재한다는 것을 의미합니다."
   ]
  },
  {
   "cell_type": "markdown",
   "metadata": {},
   "source": [
    "## 3. Scikit-learn으로 단변량 회귀식 추정하기"
   ]
  },
  {
   "cell_type": "markdown",
   "metadata": {},
   "source": [
    "## 1) 예제"
   ]
  },
  {
   "cell_type": "markdown",
   "metadata": {},
   "source": [
    "### \\- use only one feature(bmi)\n",
    "\n",
    "(위와 동일)\n",
    "\n",
    "### \\- plot the data point\n",
    "\n",
    "(위와 동일)"
   ]
  },
  {
   "cell_type": "markdown",
   "metadata": {},
   "source": [
    "### \\- find relationship\n",
    "+ 앞서 언급한 모델 파라미터 추정을 scikit-learn에서는 estimator(추정기)라는 객체를 기반으로 합니다. 추정 자체는 fit() 메서드에 의해 수행됩니다."
   ]
  },
  {
   "cell_type": "markdown",
   "metadata": {},
   "source": [
    "다음은 선형 회귀를 위한 LinearRegression 추정기 입니다."
   ]
  },
  {
   "cell_type": "code",
   "execution_count": null,
   "metadata": {},
   "outputs": [],
   "source": [
    "# 선형회귀 추정기 생성\n",
    "lr = linear_model.LinearRegression() "
   ]
  },
  {
   "cell_type": "markdown",
   "metadata": {},
   "source": [
    "fit() 메서드를 통해 모델 파라미터를 추정합니다."
   ]
  },
  {
   "cell_type": "code",
   "execution_count": null,
   "metadata": {
    "scrolled": false
   },
   "outputs": [],
   "source": [
    "# input 대해 선형 회귀(모델 파라미터 추정)\n",
    "diabetes_X = diabetes_X.values.tolist()\n",
    "diabetes_Y = diabetes_Y.values.tolist()\n",
    "lr.fit(diabetes_X, diabetes_Y)"
   ]
  },
  {
   "cell_type": "code",
   "execution_count": null,
   "metadata": {
    "scrolled": true
   },
   "outputs": [],
   "source": [
    "# 모델 파라미터 출력\n",
    "print('Model parameters: \\n')\n",
    "print('b1:', lr.coef_[0,0])\n",
    "print('b0:', lr.intercept_[0])\n",
    "print()\n",
    "print('y=',lr.intercept_[0],'+',lr.coef_[0,0],'* x')"
   ]
  },
  {
   "cell_type": "markdown",
   "metadata": {},
   "source": [
    "계산된 모델 파라미터를 적용하여 데이터 세트에 대해 추정값을 반환합니다."
   ]
  },
  {
   "cell_type": "code",
   "execution_count": null,
   "metadata": {},
   "outputs": [],
   "source": [
    "# 회귀식으로 데이터의 결과 추정\n",
    "diabetes_y_pred = lr.predict(diabetes_X)"
   ]
  },
  {
   "cell_type": "markdown",
   "metadata": {},
   "source": [
    "### \\- result"
   ]
  },
  {
   "cell_type": "code",
   "execution_count": null,
   "metadata": {},
   "outputs": [],
   "source": [
    "# Plot\n",
    "\n",
    "# 데이터 좌표 plot\n",
    "plt.scatter(diabetes_X, diabetes_Y,  color='black', label='Data Point(patients)')\n",
    "\n",
    "# 회귀 결과 plot\n",
    "plt.plot(diabetes_X, diabetes_y_pred, color='blue', linewidth=3, label='Linear Regression')\n",
    "\n",
    "# x축 label\n",
    "plt.xlabel(label)\n",
    "\n",
    "#y축 label\n",
    "plt.ylabel('y')\n",
    "plt.legend()\n",
    "plt.show()"
   ]
  },
  {
   "cell_type": "markdown",
   "metadata": {},
   "source": [
    "### \\- evaluation"
   ]
  },
  {
   "cell_type": "code",
   "execution_count": null,
   "metadata": {},
   "outputs": [],
   "source": [
    "# R2 scroe\n",
    "print('R2 score: %.2f' % r2_score(diabetes_Y, diabetes_y_pred))"
   ]
  },
  {
   "cell_type": "markdown",
   "metadata": {},
   "source": [
    "***"
   ]
  },
  {
   "cell_type": "markdown",
   "metadata": {},
   "source": [
    "## 2) 연습문제"
   ]
  },
  {
   "cell_type": "markdown",
   "metadata": {},
   "source": [
    "### use only one feature\n",
    "독립변수와 종속변수를 선택합니다."
   ]
  },
  {
   "cell_type": "code",
   "execution_count": null,
   "metadata": {},
   "outputs": [],
   "source": [
    "label_test =\n",
    "dfx = \n",
    "dfy = "
   ]
  },
  {
   "cell_type": "code",
   "execution_count": null,
   "metadata": {},
   "outputs": [],
   "source": [
    "dfx.head()"
   ]
  },
  {
   "cell_type": "code",
   "execution_count": null,
   "metadata": {
    "scrolled": true
   },
   "outputs": [],
   "source": [
    "dfy.head()"
   ]
  },
  {
   "cell_type": "markdown",
   "metadata": {},
   "source": [
    "### plot the data point\n",
    "데이터 점을 산점도 그래프로 나타냅니다."
   ]
  },
  {
   "cell_type": "code",
   "execution_count": null,
   "metadata": {},
   "outputs": [],
   "source": []
  },
  {
   "cell_type": "markdown",
   "metadata": {},
   "source": [
    "### find relationship by sklearn\n",
    "\n",
    "모델 파라미터를 계산하여 출력하고, 데이터에 대해서 회귀 결과를 얻습니다."
   ]
  },
  {
   "cell_type": "code",
   "execution_count": null,
   "metadata": {},
   "outputs": [],
   "source": []
  },
  {
   "cell_type": "markdown",
   "metadata": {},
   "source": [
    "### result\n",
    "결과를 그래프로 나타냅니다."
   ]
  },
  {
   "cell_type": "code",
   "execution_count": null,
   "metadata": {},
   "outputs": [],
   "source": [
    "# Plot\n",
    "\n",
    "# 데이터 좌표 plot\n",
    "\n",
    "# 회귀 결과 plot\n",
    "\n",
    "# x축 label\n",
    "\n",
    "# y축 label\n"
   ]
  },
  {
   "cell_type": "markdown",
   "metadata": {},
   "source": [
    "### evaluation\n",
    "R2를 이용하여 테스트 결과를 평가합니다."
   ]
  },
  {
   "cell_type": "code",
   "execution_count": null,
   "metadata": {},
   "outputs": [],
   "source": []
  },
  {
   "cell_type": "markdown",
   "metadata": {},
   "source": [
    "***"
   ]
  },
  {
   "cell_type": "markdown",
   "metadata": {},
   "source": [
    "## < Multiple regression (다중회귀분석) >"
   ]
  },
  {
   "cell_type": "markdown",
   "metadata": {},
   "source": [
    "+ Target 변수에 영향을 미치는 독립변수의 수가 d개일 때를 말합니다."
   ]
  },
  {
   "cell_type": "markdown",
   "metadata": {},
   "source": [
    "<center>$Y = B_0 + B_1X_1 + B_2X_2+ \\cdot\\cdot\\cdot B_dX_d$"
   ]
  },
  {
   "cell_type": "markdown",
   "metadata": {},
   "source": [
    "## 3. Scikit-learn으로 다변량 회귀식 추정하기"
   ]
  },
  {
   "cell_type": "markdown",
   "metadata": {},
   "source": [
    "## 1) 예제"
   ]
  },
  {
   "cell_type": "markdown",
   "metadata": {},
   "source": [
    "### \\- use more than two features(Select bmi, tch)"
   ]
  },
  {
   "cell_type": "code",
   "execution_count": null,
   "metadata": {},
   "outputs": [],
   "source": [
    "# 컬럼이름으로 다중 컬럼 선택 (return DatFrame)\n",
    "## 하나의 컬럼을 선택할 경우 Series를 반환\n",
    "## 하나의 컬럼을 DataFrame으로 반환하기 위해서는 컬럼 리스트로 입력\n",
    "\n",
    "label2 = ['bmi', 'tch']\n",
    "diabetes_X_multi = df[label2]\n",
    "diabetes_Y_multi = df[['y']]"
   ]
  },
  {
   "cell_type": "markdown",
   "metadata": {},
   "source": [
    "### \\- plot the data point"
   ]
  },
  {
   "cell_type": "code",
   "execution_count": null,
   "metadata": {
    "scrolled": true
   },
   "outputs": [],
   "source": [
    "# Plot\n",
    "\n",
    "# x,y축 값 설정 (독립변수)\n",
    "bmi = diabetes_X_multi[['bmi']]\n",
    "tch = diabetes_X_multi[['tch']]\n",
    "\n",
    "fig = plt.figure()\n",
    "ax = Axes3D(fig)\n",
    "\n",
    "# 산점도 그래프\n",
    "ax.scatter(bmi, tch, diabetes_Y_multi, color='red')\n",
    "\n",
    "# x축 label\n",
    "ax.set_xlabel('bmi')\n",
    "\n",
    "# y축 label\n",
    "ax.set_ylabel('tch')\n",
    "\n",
    "# z축 label\n",
    "ax.set_zlabel('y')\n",
    "plt.show()"
   ]
  },
  {
   "cell_type": "markdown",
   "metadata": {},
   "source": [
    "### \\- find relationship"
   ]
  },
  {
   "cell_type": "markdown",
   "metadata": {},
   "source": [
    " 다음은 선형 회귀를 위한 LinearRegression 추정기 입니다."
   ]
  },
  {
   "cell_type": "code",
   "execution_count": null,
   "metadata": {},
   "outputs": [],
   "source": [
    "# 선형회귀 추정기 생성\n",
    "lr2 = linear_model.LinearRegression()"
   ]
  },
  {
   "cell_type": "markdown",
   "metadata": {},
   "source": [
    "fit() 메서드를 통해 모델 파라미터를 추정합니다."
   ]
  },
  {
   "cell_type": "code",
   "execution_count": null,
   "metadata": {},
   "outputs": [],
   "source": [
    "# input 대해 선형 회귀(모델 파라미터 추정)\n",
    "lr2.fit(diabetes_X_multi, diabetes_Y_multi)"
   ]
  },
  {
   "cell_type": "code",
   "execution_count": null,
   "metadata": {},
   "outputs": [],
   "source": [
    "# 모델 파라미터 출력\n",
    "print('Model parameters: \\n')\n",
    "print('b2:', lr2.coef_[0,0])\n",
    "print('b1:', lr2.coef_[0,1])\n",
    "print('b0:', lr2.intercept_[0])\n",
    "print()\n",
    "print('y=',lr2.intercept_[0],'+',lr2.coef_[0,1],'*x1 + ', lr2.coef_[0,0], '*x2')"
   ]
  },
  {
   "cell_type": "markdown",
   "metadata": {},
   "source": [
    "계산된 모델 파라미터를 적용하여 데이터 세트에 대해 추정값을 반환합니다."
   ]
  },
  {
   "cell_type": "code",
   "execution_count": null,
   "metadata": {},
   "outputs": [],
   "source": [
    "diabetes_y_pred_multi = lr2.predict(diabetes_X_multi)"
   ]
  },
  {
   "cell_type": "markdown",
   "metadata": {},
   "source": [
    "### \\- result"
   ]
  },
  {
   "cell_type": "code",
   "execution_count": null,
   "metadata": {},
   "outputs": [],
   "source": [
    "# Plot \n",
    "\n",
    "# x,y축 값 설정\n",
    "bmi = diabetes_X_multi[['bmi']]\n",
    "tch = diabetes_X_multi[['tch']]\n",
    "\n",
    "# 회귀식으로 결과 추정위한 축 설정\n",
    "xx1, xx2 = np.meshgrid(np.linspace(diabetes_X_multi.bmi.min(),\n",
    "                                   diabetes_X_multi.bmi.max(), 100), \n",
    "                       np.linspace(diabetes_X_multi.tch.min(), \n",
    "                                   diabetes_X_multi.tch.max(), 100))\n",
    "# matplotlib 3d plot\n",
    "fig = plt.figure()\n",
    "ax = Axes3D(fig, azim= -100, elev=50) #azim : 방위각도, azim : 고도 \n",
    "ax.scatter(bmi, tch, diabetes_Y_multi, color='red')\n",
    "\n",
    "\n",
    "# 회귀식으로 결과(hyperplane) 추정\n",
    "Z =lr2.intercept_[0] +lr2.coef_[0,0] * xx1 + lr2.coef_[0,1] * xx2\n",
    "\n",
    "# plot hyperplane\n",
    "ax.plot_surface(xx1,xx2,Z)\n",
    "ax.set_xlabel('bmi')\n",
    "ax.set_ylabel('tch')\n",
    "ax.set_zlabel('y')\n",
    "\n",
    "plt.show()"
   ]
  },
  {
   "cell_type": "markdown",
   "metadata": {},
   "source": [
    "### \\- evaluation"
   ]
  },
  {
   "cell_type": "markdown",
   "metadata": {},
   "source": [
    "+ 총변화량(SST) 중에서 회귀직선에 의해 설명되는 변화량(SSR)의 비율은 독립변수의 수가 증가하면 따라서 커지는 증가함수 형태입니다.(독립변수의 개수에 의존)\n",
    "\n",
    "\\* $R_{adj}^2$ scrore (수정된 결정 계수)\n",
    "\n",
    "+ 즉, 일반 $R^2$는 활용된 독립변수의 수에 민감하게 작용하므로, 독립변수의 수를 discount해주는 방식의 수정된 $R^2$ score가 지표로 활용됩니다.\n",
    "\n",
    "\n",
    "+ ### $R_{adj}^2 = 1 - [\\frac{n-1}{n-(p+1)}]\\frac{SSE}{SST}$\n",
    "(결정계수보다 항상 작은것이 특징)"
   ]
  },
  {
   "cell_type": "code",
   "execution_count": null,
   "metadata": {
    "scrolled": true
   },
   "outputs": [],
   "source": [
    "# R2 scroe\n",
    "R2 = r2_score(diabetes_Y_multi, diabetes_y_pred_multi)\n",
    "print('R2 score: %.2f' % R2)"
   ]
  },
  {
   "cell_type": "code",
   "execution_count": null,
   "metadata": {
    "scrolled": true
   },
   "outputs": [],
   "source": [
    "# adj R2 score\n",
    "n = len(diabetes_X_multi)\n",
    "p = len(label)\n",
    "\n",
    "Adj_r2 = 1-(1-R2)*(n-1)/(n-p-1)\n",
    "print('R2 score: %.2f' % Adj_r2)"
   ]
  },
  {
   "cell_type": "markdown",
   "metadata": {},
   "source": [
    "+ 계산된 $Adj \\ R^2$값이 0.40 이므로 모델은 단변량 모델보다 더 좋은 설명력을 보임을 의미합니다."
   ]
  },
  {
   "cell_type": "markdown",
   "metadata": {},
   "source": [
    "---"
   ]
  },
  {
   "cell_type": "markdown",
   "metadata": {},
   "source": [
    "## 2) 연습문제"
   ]
  },
  {
   "cell_type": "markdown",
   "metadata": {},
   "source": [
    "### use more than two features\n",
    "독립변수와 종속변수를 선택합니다."
   ]
  },
  {
   "cell_type": "code",
   "execution_count": null,
   "metadata": {},
   "outputs": [],
   "source": []
  },
  {
   "cell_type": "code",
   "execution_count": null,
   "metadata": {},
   "outputs": [],
   "source": [
    "dfx_multi.head()"
   ]
  },
  {
   "cell_type": "code",
   "execution_count": null,
   "metadata": {},
   "outputs": [],
   "source": [
    "dfy_multi.head()"
   ]
  },
  {
   "cell_type": "markdown",
   "metadata": {},
   "source": [
    "### plot the data point\n",
    "데이터 점을 산점도 그래프로 나타냅니다."
   ]
  },
  {
   "cell_type": "code",
   "execution_count": null,
   "metadata": {},
   "outputs": [],
   "source": [
    "# Plot\n",
    "\n",
    "# x,y축 값 설정 (독립변수)\n",
    "\n",
    "# figure\n",
    "fig = plt.figure()\n",
    "ax = Axes3D(fig)\n",
    "\n",
    "# 산점도 그래프\n",
    "\n",
    "# x축 label\n",
    "\n",
    "# y축 label\n",
    "\n",
    "# z축 label\n",
    "\n",
    "plt.show()"
   ]
  },
  {
   "cell_type": "markdown",
   "metadata": {},
   "source": [
    "### find relationship\n",
    "모델 파라미터를 계산하여 출력하고, test 데이터에 대해서 회귀 결과를 얻습니다."
   ]
  },
  {
   "cell_type": "code",
   "execution_count": null,
   "metadata": {},
   "outputs": [],
   "source": [
    "# 선형회귀 추정기 생성\n",
    "\n",
    "# input 대해 선형 회귀(모델 파라미터 추정)\n",
    "\n",
    "# 모델 파라미터 출력\n",
    "\n",
    "# 회귀식으로 데이터의 결과 추정\n"
   ]
  },
  {
   "cell_type": "markdown",
   "metadata": {},
   "source": [
    "### result\n",
    "결과를 그래프로 나타냅니다."
   ]
  },
  {
   "cell_type": "code",
   "execution_count": null,
   "metadata": {},
   "outputs": [],
   "source": [
    "# Plot\n",
    "\n",
    "# x,y축 값 설정 (독립변수)\n",
    "\n",
    "\n",
    "# 회귀식으로 결과 추정위한 독립변수 설정(input)\n",
    "\n",
    "# matplotlib 3d plot\n",
    "\n",
    "# 회귀식으로 결과 추정\n",
    "\n",
    "# plot hyperplane\n",
    "\n",
    "\n",
    "plt.show()"
   ]
  },
  {
   "cell_type": "markdown",
   "metadata": {},
   "source": [
    "### evaluation\n",
    "R2를 이용하여 테스트 결과를 평가합니다."
   ]
  },
  {
   "cell_type": "code",
   "execution_count": null,
   "metadata": {},
   "outputs": [],
   "source": [
    "# R2 scroe\n",
    "R2 = \n",
    "print('R2 score: %.2f' % R2)"
   ]
  },
  {
   "cell_type": "code",
   "execution_count": null,
   "metadata": {
    "scrolled": false
   },
   "outputs": [],
   "source": [
    "# adj R2 score\n",
    "Adj_R2 = \n",
    "print('R2 score: %.2f' % Adj_r2)"
   ]
  },
  {
   "cell_type": "markdown",
   "metadata": {},
   "source": [
    "(표본의 크기와 독립변수의 수를 고려하는 $Adj \\ R^2$와 $R^2$는 표본이 큰 경우 거의 동일해짐을 확인할 수 있습니다.)"
   ]
  },
  {
   "cell_type": "markdown",
   "metadata": {},
   "source": [
    "# ** 설명력을 높여보자 **"
   ]
  },
  {
   "cell_type": "markdown",
   "metadata": {},
   "source": [
    "## 2) 연습문제"
   ]
  },
  {
   "cell_type": "markdown",
   "metadata": {},
   "source": [
    "### \\- sklearn을 활용하여 설명력이 높은 회귀식을 찾아보세요."
   ]
  },
  {
   "cell_type": "code",
   "execution_count": null,
   "metadata": {
    "scrolled": true
   },
   "outputs": [],
   "source": [
    "df2 = pd.read_csv(join('data', 'ToyotaDataset.csv'))"
   ]
  },
  {
   "cell_type": "code",
   "execution_count": null,
   "metadata": {},
   "outputs": [],
   "source": [
    "df2.head()"
   ]
  },
  {
   "cell_type": "code",
   "execution_count": null,
   "metadata": {},
   "outputs": [],
   "source": [
    "df2.columns"
   ]
  },
  {
   "cell_type": "code",
   "execution_count": null,
   "metadata": {},
   "outputs": [],
   "source": [
    "# newlabel을 수정해가며 설명력이 높은 회귀식을 찾아보세요.\n",
    "newlabel = ['Age']\n",
    "\n",
    "dfx = df2[newlabel]\n",
    "dfy = df2[['Price']]\n",
    "\n",
    "print(dfx.shape)"
   ]
  },
  {
   "cell_type": "markdown",
   "metadata": {},
   "source": [
    "### regression"
   ]
  },
  {
   "cell_type": "code",
   "execution_count": null,
   "metadata": {},
   "outputs": [],
   "source": [
    "# sample code\n",
    "\n",
    "## 선형회귀 추정기 생성\n",
    "# lr3 = linear_model.LinearRegression()\n",
    "\n",
    "## input 대해 선형 회귀(모델 파라미터 추정)\n",
    "# lr3.fit(X, Y)\n",
    "\n",
    "## 모델 파라미터 출력\n",
    "# print('Model parameters: \\n')\n",
    "\n",
    "# rgstr = ''\n",
    "# for i in range(len(lr3.coef_[0])):\n",
    "#     print(\"b%d\" %(len(lr3.coef_[0])-i),\": \", \"%f\" %lr3.coef_[0,i])\n",
    "#     rgstr = ' + '+repr(lr3.coef_[0,i]) + '*x'+repr(len(lr3.coef_[0])-i) + rgstr\n",
    "\n",
    "# print('b0:', lr3.intercept_[0])\n",
    "# print()\n",
    "# rgstr = repr(lr3.intercept_[0]) + rgstr\n",
    "# print('y = ', rgstr)"
   ]
  },
  {
   "cell_type": "markdown",
   "metadata": {},
   "source": [
    "### \\- evaluation"
   ]
  },
  {
   "cell_type": "code",
   "execution_count": null,
   "metadata": {},
   "outputs": [],
   "source": [
    "# y_pred = lr3.predict(X_test)\n",
    "# n = len(X_test)\n",
    "# p = len(label2)\n",
    "\n",
    "# R2 = r2_score(y_test, y_pred)\n",
    "# Adj_r2 = 1-(1-R2)*(n-1)/(n-p-1)\n",
    "\n",
    "# print('Adj R2 score: %.2f' %  Adj_r2)"
   ]
  },
  {
   "cell_type": "markdown",
   "metadata": {},
   "source": [
    "---"
   ]
  },
  {
   "cell_type": "markdown",
   "metadata": {},
   "source": [
    "### Reference\n",
    "\n",
    "+ Dataset \n",
    "#### < diabetesDataset >\n",
    "Source URL:\n",
    "http://www4.stat.ncsu.edu/~boos/var.select/diabetes.html\n",
    "\n",
    "For more information see:\n",
    "Bradley Efron, Trevor Hastie, Iain Johnstone and Robert Tibshirani (2004) \"Least Angle Regression,\" Annals of Statistics (with discussion), 407-499.\n",
    "(http://web.stanford.edu/~hastie/Papers/LARS/LeastAngle_2002.pdf)"
   ]
  }
 ],
 "metadata": {
  "kernelspec": {
   "display_name": "Python 3",
   "language": "python",
   "name": "python3"
  },
  "language_info": {
   "codemirror_mode": {
    "name": "ipython",
    "version": 3
   },
   "file_extension": ".py",
   "mimetype": "text/x-python",
   "name": "python",
   "nbconvert_exporter": "python",
   "pygments_lexer": "ipython3",
   "version": "3.6.3"
  }
 },
 "nbformat": 4,
 "nbformat_minor": 2
}
